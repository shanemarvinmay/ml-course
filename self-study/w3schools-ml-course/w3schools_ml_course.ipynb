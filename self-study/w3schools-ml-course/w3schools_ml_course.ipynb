{
  "cells": [
    {
      "cell_type": "markdown",
      "metadata": {
        "id": "bHoFVvkSF0yi"
      },
      "source": [
        "# [w3schools ml course](https://www.w3schools.com/python/python_ml_getting_started.asp)"
      ]
    },
    {
      "cell_type": "markdown",
      "metadata": {
        "id": "3HXzBtLPF7rw"
      },
      "source": [
        "Types of data:\n",
        "* numerical: \n",
        "    * discrete: whole number\n",
        "    * continuous: decimal. Infinite number of values.\n",
        "* categorial: things that cannot be measured against themselve. Like colors.\n",
        "* ordinal: like categorical, but can be measured against themselves. Like grades."
      ]
    },
    {
      "cell_type": "markdown",
      "metadata": {
        "id": "baQDP-lpEU-M"
      },
      "source": [
        "How to find mean, meadian, mode with numpy."
      ]
    },
    {
      "cell_type": "code",
      "execution_count": null,
      "metadata": {
        "colab": {
          "base_uri": "https://localhost:8080/"
        },
        "id": "KebD88jsETDT",
        "outputId": "9f117765-58c4-424c-e1b9-193680ab6126"
      },
      "outputs": [
        {
          "name": "stdout",
          "output_type": "stream",
          "text": [
            "Means of nums: 89.76923076923077\n",
            "Median of nums: 87.0\n",
            "Mode of nums: ModeResult(mode=array([86]), count=array([3]))\n"
          ]
        }
      ],
      "source": [
        "import numpy\n",
        "from scipy import stats\n",
        "\n",
        "# discrete nums\n",
        "nums = numpy.array([99,86,87,88,111,86,103,87,94,78,77,85,86])\n",
        "\n",
        "print(f'Means of nums: {numpy.mean(nums)}')\n",
        "print(f'Median of nums: {numpy.median(nums)}')\n",
        "print(f'Mode of nums: {stats.mode(nums)}')"
      ]
    },
    {
      "cell_type": "markdown",
      "metadata": {
        "id": "b9cWC1WBGmWl"
      },
      "source": [
        "## Standard Deviation\n",
        "Standard deviation is a number that describes how spread out the numbers are.\n",
        "Standard deviation is the average distance every number is from the mean (average).\n",
        "So a higher standard deviation means the values are more spread out on average.\n",
        "A lower standard deviation means the values are closer together.\n",
        "\n",
        "Standard Deviation is often represented by the symbol Sigma: σ\n",
        "\n",
        "Here is how to find it with numpy:"
      ]
    },
    {
      "cell_type": "code",
      "execution_count": null,
      "metadata": {
        "colab": {
          "base_uri": "https://localhost:8080/"
        },
        "id": "Wak797SqGwme",
        "outputId": "016b856d-9b69-4dcc-b548-b715ab62d4c2"
      },
      "outputs": [
        {
          "name": "stdout",
          "output_type": "stream",
          "text": [
            "Standard deviation of smaller_std: 0.9035079029052513\n",
            "Standard deviation of larger_std: 37.84501153334721\n"
          ]
        }
      ],
      "source": [
        "import numpy\n",
        "\n",
        "smaller_std = numpy.array([86,87,88,86,87,85,86])\n",
        "larger_std = numpy.array([32,111,138,28,59,77,97])\n",
        "\n",
        "print(f'Standard deviation of smaller_std: {numpy.std(smaller_std)}')\n",
        "print(f'Standard deviation of larger_std: {numpy.std(larger_std)}')"
      ]
    },
    {
      "cell_type": "markdown",
      "metadata": {
        "id": "cJVfnJI6If1F"
      },
      "source": [
        "## Variance\n",
        "Variance also shows how spread out the values are.\n",
        "\n",
        "Variance = Standard Deviation ^ 2 or sqrt of Variance = Standard Deviation\n",
        "\n",
        "Variance is often represented by the symbol Sigma Squared: σ^2\n",
        "\n",
        "### To find variance by hand\n",
        "0. Numbers being used `32,111,138,28,59,77,97`\n",
        "1. Find the mean\n",
        "```\n",
        "(32+111+138+28+59+77+97) / 7 = 77.4\n",
        "```\n",
        "2. Find each values distance from the mean\n",
        "```\n",
        " 32 - 77.4 = -45.4\n",
        "111 - 77.4 =  33.6\n",
        "138 - 77.4 =  60.6\n",
        " 28 - 77.4 = -49.4\n",
        " 59 - 77.4 = -18.4\n",
        " 77 - 77.4 = - 0.4\n",
        " 97 - 77.4 =  19.6\n",
        "```\n",
        "3. Square all those distances you just found\n",
        "```\n",
        "(-45.4)^2 = 2061.16\n",
        " (33.6)^2 = 1128.96\n",
        " (60.6)^2 = 3672.36\n",
        "(-49.4)^2 = 2440.36\n",
        "(-18.4)^2 =  338.56\n",
        "(- 0.4)^2 =    0.16\n",
        " (19.6)^2 =  384.16\n",
        "```\n",
        "4. Find the mean of those squared distances you just found. And that'll be your variance! (Ta-Da!)\n",
        "```\n",
        "(2061.16+1128.96+3672.36+2440.36+338.56+0.16+384.16) / 7 = 1432.2\n",
        "```\n",
        "\n",
        "Now here is how to find variance with numpy:"
      ]
    },
    {
      "cell_type": "code",
      "execution_count": null,
      "metadata": {
        "colab": {
          "base_uri": "https://localhost:8080/"
        },
        "id": "Rwu_SUwQIfIm",
        "outputId": "bf2fdbc8-7c11-45ef-e04d-ff57e8fb597b"
      },
      "outputs": [
        {
          "name": "stdout",
          "output_type": "stream",
          "text": [
            "Variance of nums_used_above: 1432.2448979591834\n",
            "Standard deviation of nums_used_above: 37.84501153334721\n",
            "Variance == Standard Deviation ^ 2: True\n"
          ]
        }
      ],
      "source": [
        "import numpy\n",
        "\n",
        "nums_used_above = numpy.array([32,111,138,28,59,77,97])\n",
        "\n",
        "print(f'Variance of nums_used_above: {numpy.var(nums_used_above)}')\n",
        "print(f'Standard deviation of nums_used_above: {numpy.std(nums_used_above)}')\n",
        "\n",
        "print(f'Variance == Standard Deviation ^ 2: {numpy.var(nums_used_above) == numpy.std(nums_used_above) ** 2}')"
      ]
    },
    {
      "cell_type": "markdown",
      "metadata": {
        "id": "yoDpzfNBHNtk"
      },
      "source": [
        "# Percentiles\n",
        "Just look at the example."
      ]
    },
    {
      "cell_type": "code",
      "execution_count": 7,
      "metadata": {
        "colab": {
          "base_uri": "https://localhost:8080/"
        },
        "id": "81dIScrwHaFK",
        "outputId": "7ab7ea1a-398f-4b0d-9912-5b7d5e367eff"
      },
      "outputs": [
        {
          "name": "stdout",
          "output_type": "stream",
          "text": [
            "nums: [1, 2, 3, 4, 5, 6, 7, 8, 9, 10]\n",
            "The 50th percentile: 5.5 is bigger than 50% of the nums (b/c 50% is between 5 & 6)\n",
            "The 90th percentile: 9.1\n",
            "The 100th percentile: 10.0\n"
          ]
        }
      ],
      "source": [
        "import numpy\n",
        "\n",
        "nums = [2, 5, 6, 7, 8, 11, 15, 25, 27, 31, 31, 32, 36, 39, 41, 43, 48, 50, 61, 80, 82]\n",
        "nums = list(range(1,11))\n",
        "\n",
        "print(f'nums: {nums}')\n",
        "print(f'The 50th percentile: {numpy.percentile(nums, 50)} is bigger than 50% of the nums (b/c 50% is between 5 & 6)')\n",
        "print(f'The 90th percentile: {numpy.percentile(nums, 90)}')\n",
        "print(f'The 100th percentile: {numpy.percentile(nums, 100)}')"
      ]
    },
    {
      "cell_type": "code",
      "execution_count": 8,
      "metadata": {
        "colab": {
          "base_uri": "https://localhost:8080/"
        },
        "id": "hLDWUZqdOQ5K",
        "outputId": "daff0230-456a-490e-d810-6e5f59a340ea"
      },
      "outputs": [
        {
          "name": "stdout",
          "output_type": "stream",
          "text": [
            "[2.55697319 1.84494788 1.79531908 2.25747934 3.74167809 1.13548897\n",
            " 0.98193353 0.31072245 3.60114573 0.32537889 2.72365458 2.02239216\n",
            " 1.51339122 1.56535032 0.96589656 2.13687661 2.3782544  0.03433395\n",
            " 4.30296151 0.23524508 2.35323255 2.97545898 2.5827772  1.21744353\n",
            " 3.09988998 1.54209422 3.85564181 0.50169456 2.18188744 3.32220805\n",
            " 4.33927267 3.15046286 3.31440046 3.34460752 3.55877215 1.47458553\n",
            " 3.18119692 4.95167845 0.96881391 0.96098691 4.76587102 0.69504895\n",
            " 4.15222016 2.36468998 1.20250434 3.52672025 3.86497672 4.46164113\n",
            " 1.2404291  3.8440513  2.69452954 4.49966989 2.9265633  0.72127329\n",
            " 0.45118023 4.63718424 1.34250386 1.12467405 4.30976505 2.05302049\n",
            " 0.09713556 3.85345121 1.18899813 0.92613909 3.30142191 3.59591259\n",
            " 3.74341651 4.75695267 3.855129   4.6505756  3.25950233 4.99412718\n",
            " 4.06054425 1.31904097 2.60116036 3.90265175 2.67795368 0.11253648\n",
            " 4.43765331 3.11190296 2.16770852 3.2103136  2.39803495 2.53817375\n",
            " 0.51662839 0.89030866 4.75266271 0.22857256 4.28221832 1.72089783\n",
            " 1.3080669  2.56611882 2.96110092 3.12131913 4.91804488 0.19163149\n",
            " 0.26505332 1.42148363 4.98417163 3.21839675 3.28200714 3.065738\n",
            " 2.99821077 0.95083482 4.04241056 2.83006654 4.60977652 4.0969572\n",
            " 1.14167391 3.96309879 1.65404909 3.50828433 0.68735934 3.92230888\n",
            " 1.21845903 1.25425072 1.90547848 2.15784977 4.88643222 3.45589643\n",
            " 4.15971988 3.18698905 3.37902507 4.15563422 2.65904774 1.0785447\n",
            " 3.3708479  0.85560981 0.10985632 1.44269563 4.96263424 0.93278736\n",
            " 2.53147153 1.08651125 4.55497976 3.8334282  3.74591946 3.15346464\n",
            " 3.54718567 1.02923271 4.79181875 1.69473079 0.93881398 2.45671434\n",
            " 1.19107788 2.90460327 0.87637895 3.17629481 1.75138612 2.7531401\n",
            " 2.48617503 2.28576965 3.51573537 2.43920429 1.59916703 3.09052709\n",
            " 0.18280149 1.52565983 2.92242404 4.92733348 1.28185272 4.75636276\n",
            " 0.12581976 4.32926157 3.45508549 1.7766942  4.94918412 3.38465773\n",
            " 2.56148231 4.83144467 4.01611431 4.41095618 2.62891921 0.9437814\n",
            " 3.76079406 1.93490117 1.30398524 3.51534361 0.40393999 3.5010246\n",
            " 2.64876095 1.46996232 0.21685181 0.01196306 2.20159231 4.05919732\n",
            " 2.65519521 2.87011916 2.14890349 2.30899832 4.90871834 1.87519021\n",
            " 0.09757347 1.78159771 2.0373662  3.69780167 0.65792925 3.81784802\n",
            " 3.54501893 0.50076739 1.17474941 4.99079782 4.71039027 4.31331208\n",
            " 3.43288588 2.02092058 3.72532704 1.99997446 4.7929868  2.67548341\n",
            " 3.29961345 0.20632654 3.25242561 3.6000235  3.68818658 1.90248387\n",
            " 0.43241458 3.54351103 4.49592989 1.17136519 3.74598079 1.8714584\n",
            " 3.50814308 2.77629429 3.18841337 4.28253764 1.16207533 3.89092356\n",
            " 0.49319653 2.10982237 3.6433581  4.42046434 0.47990802 0.95936208\n",
            " 2.95426402 4.4474583  3.43622019 3.50611289 2.62324777 2.21207548\n",
            " 1.27739872 4.90728728 1.2150846  2.74815242 1.86911957 1.0628198\n",
            " 2.22368263 2.86500477 0.95330604 1.19143641]\n"
          ]
        }
      ],
      "source": [
        "import numpy\n",
        "\n",
        "x = numpy.random.uniform(0.0, 5.0, 250)\n",
        "\n",
        "print(x)"
      ]
    }
  ],
  "metadata": {
    "colab": {
      "provenance": []
    },
    "kernelspec": {
      "display_name": "Python 3",
      "language": "python",
      "name": "python3"
    },
    "language_info": {
      "name": "python",
      "version": "3.9.13"
    },
    "vscode": {
      "interpreter": {
        "hash": "55bb148bacd6b070ba95afce38144ba0de057c9668a1eb38e7d4f82b09e60d6c"
      }
    }
  },
  "nbformat": 4,
  "nbformat_minor": 0
}
