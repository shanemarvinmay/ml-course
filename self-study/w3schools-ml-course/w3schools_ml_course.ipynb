{
 "cells": [
  {
   "cell_type": "markdown",
   "metadata": {
    "id": "bHoFVvkSF0yi"
   },
   "source": [
    "# [w3schools ml course](https://www.w3schools.com/python/python_ml_getting_started.asp)"
   ]
  },
  {
   "cell_type": "markdown",
   "metadata": {},
   "source": [
    "# Imports"
   ]
  },
  {
   "cell_type": "code",
   "execution_count": 68,
   "metadata": {},
   "outputs": [
    {
     "name": "stdout",
     "output_type": "stream",
     "text": [
      "Requirement already satisfied: numpy in /Library/Frameworks/Python.framework/Versions/3.12/lib/python3.12/site-packages (2.1.3)\n",
      "Requirement already satisfied: scipy in /Library/Frameworks/Python.framework/Versions/3.12/lib/python3.12/site-packages (1.14.1)\n",
      "Requirement already satisfied: matplotlib in /Library/Frameworks/Python.framework/Versions/3.12/lib/python3.12/site-packages (3.9.3)\n",
      "Requirement already satisfied: pandas in /Library/Frameworks/Python.framework/Versions/3.12/lib/python3.12/site-packages (2.2.3)\n",
      "Requirement already satisfied: contourpy>=1.0.1 in /Library/Frameworks/Python.framework/Versions/3.12/lib/python3.12/site-packages (from matplotlib) (1.3.1)\n",
      "Requirement already satisfied: cycler>=0.10 in /Library/Frameworks/Python.framework/Versions/3.12/lib/python3.12/site-packages (from matplotlib) (0.12.1)\n",
      "Requirement already satisfied: fonttools>=4.22.0 in /Library/Frameworks/Python.framework/Versions/3.12/lib/python3.12/site-packages (from matplotlib) (4.55.1)\n",
      "Requirement already satisfied: kiwisolver>=1.3.1 in /Library/Frameworks/Python.framework/Versions/3.12/lib/python3.12/site-packages (from matplotlib) (1.4.7)\n",
      "Requirement already satisfied: packaging>=20.0 in /Library/Frameworks/Python.framework/Versions/3.12/lib/python3.12/site-packages (from matplotlib) (24.2)\n",
      "Requirement already satisfied: pillow>=8 in /Library/Frameworks/Python.framework/Versions/3.12/lib/python3.12/site-packages (from matplotlib) (11.0.0)\n",
      "Requirement already satisfied: pyparsing>=2.3.1 in /Library/Frameworks/Python.framework/Versions/3.12/lib/python3.12/site-packages (from matplotlib) (3.2.0)\n",
      "Requirement already satisfied: python-dateutil>=2.7 in /Library/Frameworks/Python.framework/Versions/3.12/lib/python3.12/site-packages (from matplotlib) (2.9.0.post0)\n",
      "Requirement already satisfied: pytz>=2020.1 in /Library/Frameworks/Python.framework/Versions/3.12/lib/python3.12/site-packages (from pandas) (2024.2)\n",
      "Requirement already satisfied: tzdata>=2022.7 in /Library/Frameworks/Python.framework/Versions/3.12/lib/python3.12/site-packages (from pandas) (2024.2)\n",
      "Requirement already satisfied: six>=1.5 in /Library/Frameworks/Python.framework/Versions/3.12/lib/python3.12/site-packages (from python-dateutil>=2.7->matplotlib) (1.17.0)\n",
      "Note: you may need to restart the kernel to use updated packages.\n"
     ]
    }
   ],
   "source": [
    "%pip install numpy scipy matplotlib pandas"
   ]
  },
  {
   "cell_type": "code",
   "execution_count": 69,
   "metadata": {},
   "outputs": [],
   "source": [
    "import matplotlib.pyplot as plt\n",
    "import numpy\n",
    "import pandas as pd\n",
    "from scipy import stats"
   ]
  },
  {
   "cell_type": "markdown",
   "metadata": {
    "id": "3HXzBtLPF7rw"
   },
   "source": [
    "Types of data:\n",
    "* numerical: \n",
    "    * discrete: whole number\n",
    "    * continuous: decimal. Infinite number of values.\n",
    "* categorial: things that cannot be measured against themselve. Like colors.\n",
    "* ordinal: like categorical, but can be measured against themselves. Like grades."
   ]
  },
  {
   "cell_type": "markdown",
   "metadata": {
    "id": "baQDP-lpEU-M"
   },
   "source": [
    "How to find mean, meadian, mode with numpy."
   ]
  },
  {
   "cell_type": "code",
   "execution_count": 70,
   "metadata": {
    "colab": {
     "base_uri": "https://localhost:8080/"
    },
    "id": "KebD88jsETDT",
    "outputId": "9f117765-58c4-424c-e1b9-193680ab6126"
   },
   "outputs": [
    {
     "name": "stdout",
     "output_type": "stream",
     "text": [
      "Means of nums: 89.76923076923077\n",
      "Median of nums: 87.0\n",
      "Mode of nums: ModeResult(mode=np.int64(86), count=np.int64(3))\n"
     ]
    }
   ],
   "source": [
    "# discrete nums\n",
    "nums = numpy.array([99,86,87,88,111,86,103,87,94,78,77,85,86])\n",
    "\n",
    "print(f'Means of nums: {numpy.mean(nums)}')\n",
    "print(f'Median of nums: {numpy.median(nums)}')\n",
    "print(f'Mode of nums: {stats.mode(nums)}')"
   ]
  },
  {
   "cell_type": "markdown",
   "metadata": {
    "id": "b9cWC1WBGmWl"
   },
   "source": [
    "## Standard Deviation\n",
    "Standard deviation is a number that describes how spread out the numbers are.\n",
    "Standard deviation is the average distance every number is from the mean (average).\n",
    "So a higher standard deviation means the values are more spread out on average.\n",
    "A lower standard deviation means the values are closer together.\n",
    "\n",
    "Standard Deviation is often represented by the symbol Sigma: σ\n",
    "\n",
    "Here is how to find it with numpy:"
   ]
  },
  {
   "cell_type": "code",
   "execution_count": 71,
   "metadata": {
    "colab": {
     "base_uri": "https://localhost:8080/"
    },
    "id": "Wak797SqGwme",
    "outputId": "016b856d-9b69-4dcc-b548-b715ab62d4c2"
   },
   "outputs": [
    {
     "name": "stdout",
     "output_type": "stream",
     "text": [
      "Standard deviation of smaller_std: 0.9035079029052513\n",
      "Standard deviation of larger_std: 37.84501153334721\n"
     ]
    }
   ],
   "source": [
    "smaller_std = numpy.array([86,87,88,86,87,85,86])\n",
    "larger_std = numpy.array([32,111,138,28,59,77,97])\n",
    "\n",
    "print(f'Standard deviation of smaller_std: {numpy.std(smaller_std)}')\n",
    "print(f'Standard deviation of larger_std: {numpy.std(larger_std)}')"
   ]
  },
  {
   "cell_type": "markdown",
   "metadata": {
    "id": "cJVfnJI6If1F"
   },
   "source": [
    "## Variance\n",
    "Variance also shows how spread out the values are.\n",
    "\n",
    "**Variance = Standard Deviation ^ 2** or **sqrt of Variance = Standard Deviation**\n",
    "\n",
    "Variance is often represented by the symbol Sigma Squared: σ^2\n",
    "\n",
    "### To find variance by hand\n",
    "0. Numbers being used `32,111,138,28,59,77,97`\n",
    "1. Find the mean\n",
    "```\n",
    "(32+111+138+28+59+77+97) / 7 = 77.4\n",
    "```\n",
    "2. Find each values distance from the mean\n",
    "```\n",
    " 32 - 77.4 = -45.4\n",
    "111 - 77.4 =  33.6\n",
    "138 - 77.4 =  60.6\n",
    " 28 - 77.4 = -49.4\n",
    " 59 - 77.4 = -18.4\n",
    " 77 - 77.4 = - 0.4\n",
    " 97 - 77.4 =  19.6\n",
    "```\n",
    "3. Square all those distances you just found\n",
    "```\n",
    "(-45.4)^2 = 2061.16\n",
    " (33.6)^2 = 1128.96\n",
    " (60.6)^2 = 3672.36\n",
    "(-49.4)^2 = 2440.36\n",
    "(-18.4)^2 =  338.56\n",
    "(- 0.4)^2 =    0.16\n",
    " (19.6)^2 =  384.16\n",
    "```\n",
    "4. Find the mean of those squared distances you just found. And that'll be your variance! (*Ta-Da*!)\n",
    "```\n",
    "(2061.16+1128.96+3672.36+2440.36+338.56+0.16+384.16) / 7 = 1432.2\n",
    "```\n",
    "\n",
    "Now here is how to find variance with numpy:"
   ]
  },
  {
   "cell_type": "code",
   "execution_count": 72,
   "metadata": {
    "colab": {
     "base_uri": "https://localhost:8080/"
    },
    "id": "Rwu_SUwQIfIm",
    "outputId": "bf2fdbc8-7c11-45ef-e04d-ff57e8fb597b"
   },
   "outputs": [
    {
     "name": "stdout",
     "output_type": "stream",
     "text": [
      "Variance of nums_used_above: 1432.24\n",
      "Standard deviation of nums_used_above: 37.85\n",
      "Variance == Standard Deviation ^ 2: True\n"
     ]
    }
   ],
   "source": [
    "nums_used_above = numpy.array([32,111,138,28,59,77,97])\n",
    "\n",
    "variance = round(numpy.var(nums_used_above), 2)\n",
    "print(f'Variance of nums_used_above: {variance}')\n",
    "std = round(numpy.std(nums_used_above), 2)\n",
    "print(f'Standard deviation of nums_used_above: {std}')\n",
    "\n",
    "print(f'Variance == Standard Deviation ^ 2: {numpy.var(nums_used_above) == numpy.std(nums_used_above) ** 2}')"
   ]
  },
  {
   "cell_type": "markdown",
   "metadata": {
    "id": "yoDpzfNBHNtk"
   },
   "source": [
    "# Percentiles\n",
    "Just look at the example."
   ]
  },
  {
   "cell_type": "code",
   "execution_count": 73,
   "metadata": {
    "colab": {
     "base_uri": "https://localhost:8080/"
    },
    "id": "81dIScrwHaFK",
    "outputId": "7ab7ea1a-398f-4b0d-9912-5b7d5e367eff"
   },
   "outputs": [
    {
     "name": "stdout",
     "output_type": "stream",
     "text": [
      "nums: [1, 2, 3, 4, 5, 6, 7, 8, 9, 10]\n",
      "The 50th percentile: 5.5. So 5.5 is bigger than 50% of the nums (b/c 50% is between 5 & 6)\n",
      "The 90th percentile: 9.1\n",
      "The 100th percentile: 10.0\n"
     ]
    }
   ],
   "source": [
    "nums = [2, 5, 6, 7, 8, 11, 15, 25, 27, 31, 31, 32, 36, 39, 41, 43, 48, 50, 61, 80, 82]\n",
    "nums = list(range(1,11))\n",
    "\n",
    "print(f'nums: {nums}')\n",
    "print(f'The 50th percentile: {numpy.percentile(nums, 50)}. So {numpy.percentile(nums, 50)} is bigger than 50% of the nums (b/c 50% is between 5 & 6)')\n",
    "print(f'The 90th percentile: {numpy.percentile(nums, 90)}')\n",
    "print(f'The 100th percentile: {numpy.percentile(nums, 100)}')"
   ]
  },
  {
   "cell_type": "markdown",
   "metadata": {},
   "source": [
    "# Data Distribution\n",
    "## Uniform Distribution\n",
    "When the the data is spread out evenly."
   ]
  },
  {
   "cell_type": "code",
   "execution_count": 74,
   "metadata": {
    "colab": {
     "base_uri": "https://localhost:8080/"
    },
    "id": "hLDWUZqdOQ5K",
    "outputId": "daff0230-456a-490e-d810-6e5f59a340ea"
   },
   "outputs": [
    {
     "data": {
      "image/png": "[encoded data removed]",
      "text/plain": [
       "<Figure size 640x480 with 1 Axes>"
      ]
     },
     "metadata": {},
     "output_type": "display_data"
    }
   ],
   "source": [
    "# List of 2,00 random floats from 0 to 5, evenly distributed.\n",
    "x = numpy.random.uniform(0.0, 5.0, 2_000)\n",
    "\n",
    "plt.hist(x, 50)\n",
    "plt.show()"
   ]
  },
  {
   "cell_type": "markdown",
   "metadata": {},
   "source": [
    "## Normal Distribution\n",
    "Where the data is a bell curve. Focused around the mean.\n",
    "- A.k.a: *Bell Curve*, *Gassian Data Distribution*"
   ]
  },
  {
   "cell_type": "code",
   "execution_count": 75,
   "metadata": {},
   "outputs": [
    {
     "data": {
      "image/png": "[encoded data removed]",
      "text/plain": [
       "<Figure size 640x480 with 1 Axes>"
      ]
     },
     "metadata": {},
     "output_type": "display_data"
    }
   ],
   "source": [
    "# List of 2,000 random floats with a mean of 5 and a standard distribution of 1.\n",
    "x = numpy.random.normal(5.0, 1.0, 2_000)\n",
    "\n",
    "plt.hist(x, 50)\n",
    "plt.show()"
   ]
  },
  {
   "cell_type": "markdown",
   "metadata": {},
   "source": [
    "# Scatter Plot"
   ]
  },
  {
   "cell_type": "code",
   "execution_count": 76,
   "metadata": {},
   "outputs": [
    {
     "name": "stdout",
     "output_type": "stream",
     "text": [
      "row, cols:(74, 2)\n",
      "col names:Index(['year', 'world'], dtype='object')\n"
     ]
    },
    {
     "data": {
      "text/html": [
       "<div>\n",
       "<style scoped>\n",
       "    .dataframe tbody tr th:only-of-type {\n",
       "        vertical-align: middle;\n",
       "    }\n",
       "\n",
       "    .dataframe tbody tr th {\n",
       "        vertical-align: top;\n",
       "    }\n",
       "\n",
       "    .dataframe thead th {\n",
       "        text-align: right;\n",
       "    }\n",
       "</style>\n",
       "<table border=\"1\" class=\"dataframe\">\n",
       "  <thead>\n",
       "    <tr style=\"text-align: right;\">\n",
       "      <th></th>\n",
       "      <th>year</th>\n",
       "      <th>world</th>\n",
       "    </tr>\n",
       "  </thead>\n",
       "  <tbody>\n",
       "    <tr>\n",
       "      <th>0</th>\n",
       "      <td>1950.0</td>\n",
       "      <td>2558023014</td>\n",
       "    </tr>\n",
       "    <tr>\n",
       "      <th>1</th>\n",
       "      <td>1951.0</td>\n",
       "      <td>2595838116</td>\n",
       "    </tr>\n",
       "    <tr>\n",
       "      <th>2</th>\n",
       "      <td>1952.0</td>\n",
       "      <td>2637936830</td>\n",
       "    </tr>\n",
       "    <tr>\n",
       "      <th>3</th>\n",
       "      <td>1953.0</td>\n",
       "      <td>2683288876</td>\n",
       "    </tr>\n",
       "    <tr>\n",
       "      <th>4</th>\n",
       "      <td>1954.0</td>\n",
       "      <td>2731379529</td>\n",
       "    </tr>\n",
       "  </tbody>\n",
       "</table>\n",
       "</div>"
      ],
      "text/plain": [
       "     year       world\n",
       "0  1950.0  2558023014\n",
       "1  1951.0  2595838116\n",
       "2  1952.0  2637936830\n",
       "3  1953.0  2683288876\n",
       "4  1954.0  2731379529"
      ]
     },
     "execution_count": 76,
     "metadata": {},
     "output_type": "execute_result"
    }
   ],
   "source": [
    "# cwd = ml-course/self-study/w3schools-ml-course\n",
    "world_pop_df = pd.read_csv('../../population_world.csv')\n",
    "world_pop_df.rename(columns={'World': 'world', 'Years': 'year'}, inplace=True)\n",
    "world_pop_df['year'] = pd.to_numeric(world_pop_df['year'], errors='coerce')\n",
    "world_pop_df = world_pop_df[world_pop_df['year'] < 2024]\n",
    "print(f\"row, cols:{world_pop_df.shape}\")\n",
    "print(f\"col names:{world_pop_df.columns}\")\n",
    "world_pop_df.head()"
   ]
  },
  {
   "cell_type": "code",
   "execution_count": 80,
   "metadata": {},
   "outputs": [
    {
     "name": "stdout",
     "output_type": "stream",
     "text": [
      "row, cols:(74, 2)\n",
      "col names:Index(['year', 'united_states'], dtype='object')\n",
      "(74, 2)\n"
     ]
    },
    {
     "data": {
      "text/html": [
       "<div>\n",
       "<style scoped>\n",
       "    .dataframe tbody tr th:only-of-type {\n",
       "        vertical-align: middle;\n",
       "    }\n",
       "\n",
       "    .dataframe tbody tr th {\n",
       "        vertical-align: top;\n",
       "    }\n",
       "\n",
       "    .dataframe thead th {\n",
       "        text-align: right;\n",
       "    }\n",
       "</style>\n",
       "<table border=\"1\" class=\"dataframe\">\n",
       "  <thead>\n",
       "    <tr style=\"text-align: right;\">\n",
       "      <th></th>\n",
       "      <th>year</th>\n",
       "      <th>united_states</th>\n",
       "    </tr>\n",
       "  </thead>\n",
       "  <tbody>\n",
       "    <tr>\n",
       "      <th>0</th>\n",
       "      <td>1950</td>\n",
       "      <td>152271417</td>\n",
       "    </tr>\n",
       "    <tr>\n",
       "      <th>1</th>\n",
       "      <td>1951</td>\n",
       "      <td>154877889</td>\n",
       "    </tr>\n",
       "    <tr>\n",
       "      <th>2</th>\n",
       "      <td>1952</td>\n",
       "      <td>157552740</td>\n",
       "    </tr>\n",
       "    <tr>\n",
       "      <th>3</th>\n",
       "      <td>1953</td>\n",
       "      <td>160184192</td>\n",
       "    </tr>\n",
       "    <tr>\n",
       "      <th>4</th>\n",
       "      <td>1954</td>\n",
       "      <td>163025854</td>\n",
       "    </tr>\n",
       "  </tbody>\n",
       "</table>\n",
       "</div>"
      ],
      "text/plain": [
       "   year  united_states\n",
       "0  1950      152271417\n",
       "1  1951      154877889\n",
       "2  1952      157552740\n",
       "3  1953      160184192\n",
       "4  1954      163025854"
      ]
     },
     "execution_count": 80,
     "metadata": {},
     "output_type": "execute_result"
    }
   ],
   "source": [
    "us_pop_df = pd.read_csv('../../us_population.csv')\n",
    "us_pop_df.rename(columns={'United States': 'united_states', 'Years': 'year'}, inplace=True)\n",
    "us_pop_df['year'] = pd.to_numeric(us_pop_df['year'], errors='coerce')\n",
    "us_pop_df = us_pop_df[us_pop_df['year'] < 2024]\n",
    "print(f\"row, cols:{us_pop_df.shape}\")\n",
    "print(f\"col names:{us_pop_df.columns}\")\n",
    "print(us_pop_df.shape)\n",
    "us_pop_df.head()"
   ]
  },
  {
   "cell_type": "code",
   "execution_count": 81,
   "metadata": {},
   "outputs": [
    {
     "data": {
      "image/png": "[encoded data removed]",
      "text/plain": [
       "<Figure size 640x480 with 1 Axes>"
      ]
     },
     "metadata": {},
     "output_type": "display_data"
    }
   ],
   "source": [
    "plt.scatter(world_pop_df['year'], world_pop_df['world'])\n",
    "plt.show()"
   ]
  },
  {
   "cell_type": "code",
   "execution_count": 83,
   "metadata": {},
   "outputs": [
    {
     "data": {
      "image/png": "[encoded data removed]",
      "text/plain": [
       "<Figure size 640x480 with 1 Axes>"
      ]
     },
     "metadata": {},
     "output_type": "display_data"
    }
   ],
   "source": [
    "plt.scatter(us_pop_df['year'], us_pop_df['united_states'])\n",
    "plt.show()"
   ]
  },
  {
   "cell_type": "markdown",
   "metadata": {},
   "source": [
    "# Linear Regression\n",
    "- a.k.a linear least-squares regression"
   ]
  },
  {
   "cell_type": "markdown",
   "metadata": {},
   "source": [
    "## R for Relationship\n",
    "The `r` returned from `linregress` shows us the relationship between x and y.\n",
    "- *Pearson correlation coefficient. The square of rvalue is equal to the coefficient of determination.* is the technical term\n",
    "- Value will range between -1 and 1\n",
    "    - -1 means the is a perfect negative relationship\n",
    "    - 0 means there is no relationship\n",
    "    - 1 means there is a perfect positive relationship"
   ]
  },
  {
   "cell_type": "code",
   "execution_count": 86,
   "metadata": {},
   "outputs": [
    {
     "name": "stdout",
     "output_type": "stream",
     "text": [
      "slope:1.2825378551401841e-08, intercept:1921.2929736854408, r:0.9983102724430722, p:9.94824222916695e-91, std_err:8.79788352819171e-11\n",
      "2024 World Population:1921.2929996440068\n"
     ]
    }
   ],
   "source": [
    "x = world_pop_df['world']\n",
    "y = world_pop_df['year']\n",
    "slope, intercept, r, p, std_err = stats.linregress(x, y)\n",
    "def model(year):\n",
    "    return slope * year + intercept\n",
    "print(f\"slope:{slope}, intercept:{y_intercept}, r:{r}, p:{p}, std_err:{std_err}\")\n",
    "print(f\"2024 World Population:{model(2024)}\")"
   ]
  },
  {
   "cell_type": "code",
   "execution_count": 89,
   "metadata": {},
   "outputs": [
    {
     "data": {
      "image/png": "[encoded data removed]",
      "text/plain": [
       "<Figure size 640x480 with 1 Axes>"
      ]
     },
     "metadata": {},
     "output_type": "display_data"
    }
   ],
   "source": [
    "predictions = list(map(model, x))\n",
    "plt.scatter(x, y)\n",
    "plt.plot(x, predictions, 'r')\n",
    "plt.show()"
   ]
  },
  {
   "cell_type": "code",
   "execution_count": null,
   "metadata": {},
   "outputs": [],
   "source": []
  }
 ],
 "metadata": {
  "colab": {
   "provenance": []
  },
  "kernelspec": {
   "display_name": "Python 3 (ipykernel)",
   "language": "python",
   "name": "python3"
  },
  "language_info": {
   "codemirror_mode": {
    "name": "ipython",
    "version": 3
   },
   "file_extension": ".py",
   "mimetype": "text/x-python",
   "name": "python",
   "nbconvert_exporter": "python",
   "pygments_lexer": "ipython3",
   "version": "3.12.4"
  },
  "vscode": {
   "interpreter": {
    "hash": "55bb148bacd6b070ba95afce38144ba0de057c9668a1eb38e7d4f82b09e60d6c"
   }
  }
 },
 "nbformat": 4,
 "nbformat_minor": 4
}
