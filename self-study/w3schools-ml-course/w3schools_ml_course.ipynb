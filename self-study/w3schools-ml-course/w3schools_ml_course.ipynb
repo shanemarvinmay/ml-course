{
  "cells": [
    {
      "cell_type": "markdown",
      "metadata": {
        "id": "bHoFVvkSF0yi"
      },
      "source": [
        "# [w3schools ml course](https://www.w3schools.com/python/python_ml_getting_started.asp)"
      ]
    },
    {
      "cell_type": "markdown",
      "metadata": {
        "id": "3HXzBtLPF7rw"
      },
      "source": [
        "Types of data:\n",
        "* numerical: \n",
        "    * discrete: whole number\n",
        "    * continuous: decimal. Infinite number of values.\n",
        "* categorial: things that cannot be measured against themselve. Like colors.\n",
        "* ordinal: like categorical, but can be measured against themselves. Like grades."
      ]
    },
    {
      "cell_type": "markdown",
      "metadata": {
        "id": "baQDP-lpEU-M"
      },
      "source": [
        "How to find mean, meadian, mode with numpy."
      ]
    },
    {
      "cell_type": "code",
      "execution_count": 6,
      "metadata": {
        "colab": {
          "base_uri": "https://localhost:8080/"
        },
        "id": "KebD88jsETDT",
        "outputId": "9f117765-58c4-424c-e1b9-193680ab6126"
      },
      "outputs": [
        {
          "name": "stdout",
          "output_type": "stream",
          "text": [
            "Means of nums: 89.76923076923077\n",
            "Median of nums: 87.0\n",
            "Mode of nums: ModeResult(mode=array([86]), count=array([3]))\n"
          ]
        }
      ],
      "source": [
        "import numpy\n",
        "from scipy import stats\n",
        "\n",
        "# discrete nums\n",
        "nums = numpy.array([99,86,87,88,111,86,103,87,94,78,77,85,86])\n",
        "\n",
        "print(f'Means of nums: {numpy.mean(nums)}')\n",
        "print(f'Median of nums: {numpy.median(nums)}')\n",
        "print(f'Mode of nums: {stats.mode(nums)}')"
      ]
    },
    {
      "cell_type": "markdown",
      "metadata": {
        "id": "b9cWC1WBGmWl"
      },
      "source": [
        "## Standard Deviation\n",
        "Standard deviation is a number that describes how spread out the numbers are.\n",
        "Standard deviation is the average distance every number is from the mean (average).\n",
        "So a higher standard deviation means the values are more spread out on average.\n",
        "A lower standard deviation means the values are closer together.\n",
        "\n",
        "Standard Deviation is often represented by the symbol Sigma: σ\n",
        "\n",
        "Here is how to find it with numpy:"
      ]
    },
    {
      "cell_type": "code",
      "execution_count": 7,
      "metadata": {
        "colab": {
          "base_uri": "https://localhost:8080/"
        },
        "id": "Wak797SqGwme",
        "outputId": "016b856d-9b69-4dcc-b548-b715ab62d4c2"
      },
      "outputs": [
        {
          "name": "stdout",
          "output_type": "stream",
          "text": [
            "Standard deviation of smaller_std: 0.9035079029052513\n",
            "Standard deviation of larger_std: 37.84501153334721\n"
          ]
        }
      ],
      "source": [
        "import numpy\n",
        "\n",
        "smaller_std = numpy.array([86,87,88,86,87,85,86])\n",
        "larger_std = numpy.array([32,111,138,28,59,77,97])\n",
        "\n",
        "print(f'Standard deviation of smaller_std: {numpy.std(smaller_std)}')\n",
        "print(f'Standard deviation of larger_std: {numpy.std(larger_std)}')"
      ]
    },
    {
      "cell_type": "markdown",
      "metadata": {
        "id": "cJVfnJI6If1F"
      },
      "source": [
        "## Variance\n",
        "Variance also shows how spread out the values are.\n",
        "\n",
        "Variance = Standard Deviation ^ 2 or sqrt of Variance = Standard Deviation\n",
        "\n",
        "Variance is often represented by the symbol Sigma Squared: σ^2\n",
        "\n",
        "### To find variance by hand\n",
        "0. Numbers being used `32,111,138,28,59,77,97`\n",
        "1. Find the mean\n",
        "```\n",
        "(32+111+138+28+59+77+97) / 7 = 77.4\n",
        "```\n",
        "2. Find each values distance from the mean\n",
        "```\n",
        " 32 - 77.4 = -45.4\n",
        "111 - 77.4 =  33.6\n",
        "138 - 77.4 =  60.6\n",
        " 28 - 77.4 = -49.4\n",
        " 59 - 77.4 = -18.4\n",
        " 77 - 77.4 = - 0.4\n",
        " 97 - 77.4 =  19.6\n",
        "```\n",
        "3. Square all those distances you just found\n",
        "```\n",
        "(-45.4)^2 = 2061.16\n",
        " (33.6)^2 = 1128.96\n",
        " (60.6)^2 = 3672.36\n",
        "(-49.4)^2 = 2440.36\n",
        "(-18.4)^2 =  338.56\n",
        "(- 0.4)^2 =    0.16\n",
        " (19.6)^2 =  384.16\n",
        "```\n",
        "4. Find the mean of those squared distances you just found. And that'll be your variance! (Ta-Da!)\n",
        "```\n",
        "(2061.16+1128.96+3672.36+2440.36+338.56+0.16+384.16) / 7 = 1432.2\n",
        "```\n",
        "\n",
        "Now here is how to find variance with numpy:"
      ]
    },
    {
      "cell_type": "code",
      "execution_count": 9,
      "metadata": {
        "colab": {
          "base_uri": "https://localhost:8080/"
        },
        "id": "Rwu_SUwQIfIm",
        "outputId": "bf2fdbc8-7c11-45ef-e04d-ff57e8fb597b"
      },
      "outputs": [
        {
          "name": "stdout",
          "output_type": "stream",
          "text": [
            "Variance of nums_used_above: 1432.2448979591834\n",
            "Standard deviation of nums_used_above: 37.84501153334721\n",
            "Variance == Standard Deviation ^ 2: True\n"
          ]
        }
      ],
      "source": [
        "import numpy\n",
        "\n",
        "nums_used_above = numpy.array([32,111,138,28,59,77,97])\n",
        "\n",
        "print(f'Variance of nums_used_above: {numpy.var(nums_used_above)}')\n",
        "print(f'Standard deviation of nums_used_above: {numpy.std(nums_used_above)}')\n",
        "\n",
        "print(f'Variance == Standard Deviation ^ 2: {numpy.var(nums_used_above) == numpy.std(nums_used_above) ** 2}')"
      ]
    }
  ],
  "metadata": {
    "colab": {
      "provenance": []
    },
    "kernelspec": {
      "display_name": "Python 3",
      "language": "python",
      "name": "python3"
    },
    "language_info": {
      "name": "python",
      "version": "3.9.13 (tags/v3.9.13:6de2ca5, May 17 2022, 16:36:42) [MSC v.1929 64 bit (AMD64)]"
    },
    "vscode": {
      "interpreter": {
        "hash": "55bb148bacd6b070ba95afce38144ba0de057c9668a1eb38e7d4f82b09e60d6c"
      }
    }
  },
  "nbformat": 4,
  "nbformat_minor": 0
}
