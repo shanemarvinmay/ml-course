{
 "cells": [
  {
   "cell_type": "markdown",
   "metadata": {
    "id": "bHoFVvkSF0yi"
   },
   "source": [
    "# [w3schools ml course](https://www.w3schools.com/python/python_ml_getting_started.asp)"
   ]
  },
  {
   "cell_type": "code",
   "execution_count": 1,
   "metadata": {},
   "outputs": [
    {
     "name": "stdout",
     "output_type": "stream",
     "text": [
      "Requirement already satisfied: numpy in /Library/Frameworks/Python.framework/Versions/3.12/lib/python3.12/site-packages (2.1.3)\n",
      "Requirement already satisfied: scipy in /Library/Frameworks/Python.framework/Versions/3.12/lib/python3.12/site-packages (1.14.1)\n",
      "Collecting matplotlib\n",
      "  Downloading matplotlib-3.9.3-cp312-cp312-macosx_11_0_arm64.whl.metadata (11 kB)\n",
      "Collecting contourpy>=1.0.1 (from matplotlib)\n",
      "  Downloading contourpy-1.3.1-cp312-cp312-macosx_11_0_arm64.whl.metadata (5.4 kB)\n",
      "Collecting cycler>=0.10 (from matplotlib)\n",
      "  Downloading cycler-0.12.1-py3-none-any.whl.metadata (3.8 kB)\n",
      "Collecting fonttools>=4.22.0 (from matplotlib)\n",
      "  Downloading fonttools-4.55.1-cp312-cp312-macosx_10_13_universal2.whl.metadata (164 kB)\n",
      "Collecting kiwisolver>=1.3.1 (from matplotlib)\n",
      "  Downloading kiwisolver-1.4.7-cp312-cp312-macosx_11_0_arm64.whl.metadata (6.3 kB)\n",
      "Requirement already satisfied: packaging>=20.0 in /Library/Frameworks/Python.framework/Versions/3.12/lib/python3.12/site-packages (from matplotlib) (24.2)\n",
      "Collecting pillow>=8 (from matplotlib)\n",
      "  Downloading pillow-11.0.0-cp312-cp312-macosx_11_0_arm64.whl.metadata (9.1 kB)\n",
      "Collecting pyparsing>=2.3.1 (from matplotlib)\n",
      "  Downloading pyparsing-3.2.0-py3-none-any.whl.metadata (5.0 kB)\n",
      "Requirement already satisfied: python-dateutil>=2.7 in /Library/Frameworks/Python.framework/Versions/3.12/lib/python3.12/site-packages (from matplotlib) (2.9.0.post0)\n",
      "Requirement already satisfied: six>=1.5 in /Library/Frameworks/Python.framework/Versions/3.12/lib/python3.12/site-packages (from python-dateutil>=2.7->matplotlib) (1.17.0)\n",
      "Downloading matplotlib-3.9.3-cp312-cp312-macosx_11_0_arm64.whl (7.8 MB)\n",
      "\u001b[2K   \u001b[38;2;114;156;31m━━━━━━━━━━━━━━━━━━━━━━━━━━━━━━━━━━━━━━━━\u001b[0m \u001b[32m7.8/7.8 MB\u001b[0m \u001b[31m49.1 MB/s\u001b[0m eta \u001b[36m0:00:00\u001b[0m\n",
      "Downloading contourpy-1.3.1-cp312-cp312-macosx_11_0_arm64.whl (255 kB)\n",
      "Downloading cycler-0.12.1-py3-none-any.whl (8.3 kB)\n",
      "Downloading fonttools-4.55.1-cp312-cp312-macosx_10_13_universal2.whl (2.8 MB)\n",
      "\u001b[2K   \u001b[38;2;114;156;31m━━━━━━━━━━━━━━━━━━━━━━━━━━━━━━━━━━━━━━━━\u001b[0m \u001b[32m2.8/2.8 MB\u001b[0m \u001b[31m53.4 MB/s\u001b[0m eta \u001b[36m0:00:00\u001b[0m\n",
      "\u001b[?25hDownloading kiwisolver-1.4.7-cp312-cp312-macosx_11_0_arm64.whl (63 kB)\n",
      "Downloading pillow-11.0.0-cp312-cp312-macosx_11_0_arm64.whl (3.0 MB)\n",
      "\u001b[2K   \u001b[38;2;114;156;31m━━━━━━━━━━━━━━━━━━━━━━━━━━━━━━━━━━━━━━━━\u001b[0m \u001b[32m3.0/3.0 MB\u001b[0m \u001b[31m55.5 MB/s\u001b[0m eta \u001b[36m0:00:00\u001b[0m\n",
      "\u001b[?25hDownloading pyparsing-3.2.0-py3-none-any.whl (106 kB)\n",
      "Installing collected packages: pyparsing, pillow, kiwisolver, fonttools, cycler, contourpy, matplotlib\n",
      "Successfully installed contourpy-1.3.1 cycler-0.12.1 fonttools-4.55.1 kiwisolver-1.4.7 matplotlib-3.9.3 pillow-11.0.0 pyparsing-3.2.0\n",
      "Note: you may need to restart the kernel to use updated packages.\n"
     ]
    }
   ],
   "source": [
    "%pip install numpy scipy matplotlib"
   ]
  },
  {
   "cell_type": "code",
   "execution_count": 8,
   "metadata": {},
   "outputs": [
    {
     "name": "stderr",
     "output_type": "stream",
     "text": [
      "Matplotlib is building the font cache; this may take a moment.\n"
     ]
    }
   ],
   "source": [
    "import numpy\n",
    "import matplotlib.pyplot as plt\n",
    "from scipy import stats"
   ]
  },
  {
   "cell_type": "markdown",
   "metadata": {
    "id": "3HXzBtLPF7rw"
   },
   "source": [
    "Types of data:\n",
    "* numerical: \n",
    "    * discrete: whole number\n",
    "    * continuous: decimal. Infinite number of values.\n",
    "* categorial: things that cannot be measured against themselve. Like colors.\n",
    "* ordinal: like categorical, but can be measured against themselves. Like grades."
   ]
  },
  {
   "cell_type": "markdown",
   "metadata": {
    "id": "baQDP-lpEU-M"
   },
   "source": [
    "How to find mean, meadian, mode with numpy."
   ]
  },
  {
   "cell_type": "code",
   "execution_count": 2,
   "metadata": {
    "colab": {
     "base_uri": "https://localhost:8080/"
    },
    "id": "KebD88jsETDT",
    "outputId": "9f117765-58c4-424c-e1b9-193680ab6126"
   },
   "outputs": [
    {
     "name": "stdout",
     "output_type": "stream",
     "text": [
      "Means of nums: 89.76923076923077\n",
      "Median of nums: 87.0\n",
      "Mode of nums: ModeResult(mode=np.int64(86), count=np.int64(3))\n"
     ]
    }
   ],
   "source": [
    "# discrete nums\n",
    "nums = numpy.array([99,86,87,88,111,86,103,87,94,78,77,85,86])\n",
    "\n",
    "print(f'Means of nums: {numpy.mean(nums)}')\n",
    "print(f'Median of nums: {numpy.median(nums)}')\n",
    "print(f'Mode of nums: {stats.mode(nums)}')"
   ]
  },
  {
   "cell_type": "markdown",
   "metadata": {
    "id": "b9cWC1WBGmWl"
   },
   "source": [
    "## Standard Deviation\n",
    "Standard deviation is a number that describes how spread out the numbers are.\n",
    "Standard deviation is the average distance every number is from the mean (average).\n",
    "So a higher standard deviation means the values are more spread out on average.\n",
    "A lower standard deviation means the values are closer together.\n",
    "\n",
    "Standard Deviation is often represented by the symbol Sigma: σ\n",
    "\n",
    "Here is how to find it with numpy:"
   ]
  },
  {
   "cell_type": "code",
   "execution_count": 3,
   "metadata": {
    "colab": {
     "base_uri": "https://localhost:8080/"
    },
    "id": "Wak797SqGwme",
    "outputId": "016b856d-9b69-4dcc-b548-b715ab62d4c2"
   },
   "outputs": [
    {
     "name": "stdout",
     "output_type": "stream",
     "text": [
      "Standard deviation of smaller_std: 0.9035079029052513\n",
      "Standard deviation of larger_std: 37.84501153334721\n"
     ]
    }
   ],
   "source": [
    "smaller_std = numpy.array([86,87,88,86,87,85,86])\n",
    "larger_std = numpy.array([32,111,138,28,59,77,97])\n",
    "\n",
    "print(f'Standard deviation of smaller_std: {numpy.std(smaller_std)}')\n",
    "print(f'Standard deviation of larger_std: {numpy.std(larger_std)}')"
   ]
  },
  {
   "cell_type": "markdown",
   "metadata": {
    "id": "cJVfnJI6If1F"
   },
   "source": [
    "## Variance\n",
    "Variance also shows how spread out the values are.\n",
    "\n",
    "**Variance = Standard Deviation ^ 2** or **sqrt of Variance = Standard Deviation**\n",
    "\n",
    "Variance is often represented by the symbol Sigma Squared: σ^2\n",
    "\n",
    "### To find variance by hand\n",
    "0. Numbers being used `32,111,138,28,59,77,97`\n",
    "1. Find the mean\n",
    "```\n",
    "(32+111+138+28+59+77+97) / 7 = 77.4\n",
    "```\n",
    "2. Find each values distance from the mean\n",
    "```\n",
    " 32 - 77.4 = -45.4\n",
    "111 - 77.4 =  33.6\n",
    "138 - 77.4 =  60.6\n",
    " 28 - 77.4 = -49.4\n",
    " 59 - 77.4 = -18.4\n",
    " 77 - 77.4 = - 0.4\n",
    " 97 - 77.4 =  19.6\n",
    "```\n",
    "3. Square all those distances you just found\n",
    "```\n",
    "(-45.4)^2 = 2061.16\n",
    " (33.6)^2 = 1128.96\n",
    " (60.6)^2 = 3672.36\n",
    "(-49.4)^2 = 2440.36\n",
    "(-18.4)^2 =  338.56\n",
    "(- 0.4)^2 =    0.16\n",
    " (19.6)^2 =  384.16\n",
    "```\n",
    "4. Find the mean of those squared distances you just found. And that'll be your variance! (*Ta-Da*!)\n",
    "```\n",
    "(2061.16+1128.96+3672.36+2440.36+338.56+0.16+384.16) / 7 = 1432.2\n",
    "```\n",
    "\n",
    "Now here is how to find variance with numpy:"
   ]
  },
  {
   "cell_type": "code",
   "execution_count": 4,
   "metadata": {
    "colab": {
     "base_uri": "https://localhost:8080/"
    },
    "id": "Rwu_SUwQIfIm",
    "outputId": "bf2fdbc8-7c11-45ef-e04d-ff57e8fb597b"
   },
   "outputs": [
    {
     "name": "stdout",
     "output_type": "stream",
     "text": [
      "Variance of nums_used_above: 1432.24\n",
      "Standard deviation of nums_used_above: 37.85\n",
      "Variance == Standard Deviation ^ 2: True\n"
     ]
    }
   ],
   "source": [
    "nums_used_above = numpy.array([32,111,138,28,59,77,97])\n",
    "\n",
    "variance = round(numpy.var(nums_used_above), 2)\n",
    "print(f'Variance of nums_used_above: {variance}')\n",
    "std = round(numpy.std(nums_used_above), 2)\n",
    "print(f'Standard deviation of nums_used_above: {std}')\n",
    "\n",
    "print(f'Variance == Standard Deviation ^ 2: {numpy.var(nums_used_above) == numpy.std(nums_used_above) ** 2}')"
   ]
  },
  {
   "cell_type": "markdown",
   "metadata": {
    "id": "yoDpzfNBHNtk"
   },
   "source": [
    "# Percentiles\n",
    "Just look at the example."
   ]
  },
  {
   "cell_type": "code",
   "execution_count": 5,
   "metadata": {
    "colab": {
     "base_uri": "https://localhost:8080/"
    },
    "id": "81dIScrwHaFK",
    "outputId": "7ab7ea1a-398f-4b0d-9912-5b7d5e367eff"
   },
   "outputs": [
    {
     "name": "stdout",
     "output_type": "stream",
     "text": [
      "nums: [1, 2, 3, 4, 5, 6, 7, 8, 9, 10]\n",
      "The 50th percentile: 5.5. So 5.5 is bigger than 50% of the nums (b/c 50% is between 5 & 6)\n",
      "The 90th percentile: 9.1\n",
      "The 100th percentile: 10.0\n"
     ]
    }
   ],
   "source": [
    "nums = [2, 5, 6, 7, 8, 11, 15, 25, 27, 31, 31, 32, 36, 39, 41, 43, 48, 50, 61, 80, 82]\n",
    "nums = list(range(1,11))\n",
    "\n",
    "print(f'nums: {nums}')\n",
    "print(f'The 50th percentile: {numpy.percentile(nums, 50)}. So {numpy.percentile(nums, 50)} is bigger than 50% of the nums (b/c 50% is between 5 & 6)')\n",
    "print(f'The 90th percentile: {numpy.percentile(nums, 90)}')\n",
    "print(f'The 100th percentile: {numpy.percentile(nums, 100)}')"
   ]
  },
  {
   "cell_type": "markdown",
   "metadata": {},
   "source": [
    "# Data Distribution\n",
    "## Uniform Distribution\n",
    "When the the data is spread out evenly."
   ]
  },
  {
   "cell_type": "code",
   "execution_count": 21,
   "metadata": {
    "colab": {
     "base_uri": "https://localhost:8080/"
    },
    "id": "hLDWUZqdOQ5K",
    "outputId": "daff0230-456a-490e-d810-6e5f59a340ea"
   },
   "outputs": [
    {
     "data": {
      "image/png": "[encoded data removed]",
      "text/plain": [
       "<Figure size 640x480 with 1 Axes>"
      ]
     },
     "metadata": {},
     "output_type": "display_data"
    }
   ],
   "source": [
    "# List of 2,00 random floats from 0 to 5, evenly distributed.\n",
    "x = numpy.random.uniform(0.0, 5.0, 2_000)\n",
    "\n",
    "plt.hist(x, 50)\n",
    "plt.show()"
   ]
  },
  {
   "cell_type": "markdown",
   "metadata": {},
   "source": [
    "## Normal Distribution\n",
    "Where the data is a bell curve. Focused around the mean.\n",
    "- A.k.a: *Bell Curve*, *Gassian Data Distribution*"
   ]
  },
  {
   "cell_type": "code",
   "execution_count": 22,
   "metadata": {},
   "outputs": [
    {
     "data": {
      "image/png": "[encoded data removed]",
      "text/plain": [
       "<Figure size 640x480 with 1 Axes>"
      ]
     },
     "metadata": {},
     "output_type": "display_data"
    }
   ],
   "source": [
    "# List of 2,000 random floats with a mean of 5 and a standard distribution of 1.\n",
    "x = numpy.random.normal(5.0, 1.0, 2_000)\n",
    "\n",
    "plt.hist(x, 50)\n",
    "plt.show()"
   ]
  },
  {
   "cell_type": "code",
   "execution_count": null,
   "metadata": {},
   "outputs": [],
   "source": []
  }
 ],
 "metadata": {
  "colab": {
   "provenance": []
  },
  "kernelspec": {
   "display_name": "Python 3 (ipykernel)",
   "language": "python",
   "name": "python3"
  },
  "language_info": {
   "codemirror_mode": {
    "name": "ipython",
    "version": 3
   },
   "file_extension": ".py",
   "mimetype": "text/x-python",
   "name": "python",
   "nbconvert_exporter": "python",
   "pygments_lexer": "ipython3",
   "version": "3.12.4"
  },
  "vscode": {
   "interpreter": {
    "hash": "55bb148bacd6b070ba95afce38144ba0de057c9668a1eb38e7d4f82b09e60d6c"
   }
  }
 },
 "nbformat": 4,
 "nbformat_minor": 4
}
