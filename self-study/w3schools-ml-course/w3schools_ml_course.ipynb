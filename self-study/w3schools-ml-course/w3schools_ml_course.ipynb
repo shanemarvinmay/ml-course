{
 "cells": [
  {
   "cell_type": "markdown",
   "metadata": {
    "id": "bHoFVvkSF0yi"
   },
   "source": [
    "# [w3schools ml course](https://www.w3schools.com/python/python_ml_getting_started.asp)"
   ]
  },
  {
   "cell_type": "code",
   "execution_count": 1,
   "metadata": {},
   "outputs": [
    {
     "name": "stdout",
     "output_type": "stream",
     "text": [
      "Requirement already satisfied: numpy in /Library/Frameworks/Python.framework/Versions/3.12/lib/python3.12/site-packages (2.1.3)\n",
      "Requirement already satisfied: scipy in /Library/Frameworks/Python.framework/Versions/3.12/lib/python3.12/site-packages (1.14.1)\n",
      "Note: you may need to restart the kernel to use updated packages.\n"
     ]
    }
   ],
   "source": [
    "%pip install numpy scipy"
   ]
  },
  {
   "cell_type": "markdown",
   "metadata": {
    "id": "3HXzBtLPF7rw"
   },
   "source": [
    "Types of data:\n",
    "* numerical: \n",
    "    * discrete: whole number\n",
    "    * continuous: decimal. Infinite number of values.\n",
    "* categorial: things that cannot be measured against themselve. Like colors.\n",
    "* ordinal: like categorical, but can be measured against themselves. Like grades."
   ]
  },
  {
   "cell_type": "markdown",
   "metadata": {
    "id": "baQDP-lpEU-M"
   },
   "source": [
    "How to find mean, meadian, mode with numpy."
   ]
  },
  {
   "cell_type": "code",
   "execution_count": 2,
   "metadata": {
    "colab": {
     "base_uri": "https://localhost:8080/"
    },
    "id": "KebD88jsETDT",
    "outputId": "9f117765-58c4-424c-e1b9-193680ab6126"
   },
   "outputs": [
    {
     "name": "stdout",
     "output_type": "stream",
     "text": [
      "Means of nums: 89.76923076923077\n",
      "Median of nums: 87.0\n",
      "Mode of nums: ModeResult(mode=np.int64(86), count=np.int64(3))\n"
     ]
    }
   ],
   "source": [
    "import numpy\n",
    "from scipy import stats\n",
    "\n",
    "# discrete nums\n",
    "nums = numpy.array([99,86,87,88,111,86,103,87,94,78,77,85,86])\n",
    "\n",
    "print(f'Means of nums: {numpy.mean(nums)}')\n",
    "print(f'Median of nums: {numpy.median(nums)}')\n",
    "print(f'Mode of nums: {stats.mode(nums)}')"
   ]
  },
  {
   "cell_type": "markdown",
   "metadata": {
    "id": "b9cWC1WBGmWl"
   },
   "source": [
    "## Standard Deviation\n",
    "Standard deviation is a number that describes how spread out the numbers are.\n",
    "Standard deviation is the average distance every number is from the mean (average).\n",
    "So a higher standard deviation means the values are more spread out on average.\n",
    "A lower standard deviation means the values are closer together.\n",
    "\n",
    "Standard Deviation is often represented by the symbol Sigma: σ\n",
    "\n",
    "Here is how to find it with numpy:"
   ]
  },
  {
   "cell_type": "code",
   "execution_count": 5,
   "metadata": {
    "colab": {
     "base_uri": "https://localhost:8080/"
    },
    "id": "Wak797SqGwme",
    "outputId": "016b856d-9b69-4dcc-b548-b715ab62d4c2"
   },
   "outputs": [
    {
     "name": "stdout",
     "output_type": "stream",
     "text": [
      "Standard deviation of smaller_std: 0.9035079029052513\n",
      "Standard deviation of larger_std: 37.84501153334721\n"
     ]
    }
   ],
   "source": [
    "smaller_std = numpy.array([86,87,88,86,87,85,86])\n",
    "larger_std = numpy.array([32,111,138,28,59,77,97])\n",
    "\n",
    "print(f'Standard deviation of smaller_std: {numpy.std(smaller_std)}')\n",
    "print(f'Standard deviation of larger_std: {numpy.std(larger_std)}')"
   ]
  },
  {
   "cell_type": "markdown",
   "metadata": {
    "id": "cJVfnJI6If1F"
   },
   "source": [
    "## Variance\n",
    "Variance also shows how spread out the values are.\n",
    "\n",
    "**Variance = Standard Deviation ^ 2** or **sqrt of Variance = Standard Deviation**\n",
    "\n",
    "Variance is often represented by the symbol Sigma Squared: σ^2\n",
    "\n",
    "### To find variance by hand\n",
    "0. Numbers being used `32,111,138,28,59,77,97`\n",
    "1. Find the mean\n",
    "```\n",
    "(32+111+138+28+59+77+97) / 7 = 77.4\n",
    "```\n",
    "2. Find each values distance from the mean\n",
    "```\n",
    " 32 - 77.4 = -45.4\n",
    "111 - 77.4 =  33.6\n",
    "138 - 77.4 =  60.6\n",
    " 28 - 77.4 = -49.4\n",
    " 59 - 77.4 = -18.4\n",
    " 77 - 77.4 = - 0.4\n",
    " 97 - 77.4 =  19.6\n",
    "```\n",
    "3. Square all those distances you just found\n",
    "```\n",
    "(-45.4)^2 = 2061.16\n",
    " (33.6)^2 = 1128.96\n",
    " (60.6)^2 = 3672.36\n",
    "(-49.4)^2 = 2440.36\n",
    "(-18.4)^2 =  338.56\n",
    "(- 0.4)^2 =    0.16\n",
    " (19.6)^2 =  384.16\n",
    "```\n",
    "4. Find the mean of those squared distances you just found. And that'll be your variance! (*Ta-Da*!)\n",
    "```\n",
    "(2061.16+1128.96+3672.36+2440.36+338.56+0.16+384.16) / 7 = 1432.2\n",
    "```\n",
    "\n",
    "Now here is how to find variance with numpy:"
   ]
  },
  {
   "cell_type": "code",
   "execution_count": 8,
   "metadata": {
    "colab": {
     "base_uri": "https://localhost:8080/"
    },
    "id": "Rwu_SUwQIfIm",
    "outputId": "bf2fdbc8-7c11-45ef-e04d-ff57e8fb597b"
   },
   "outputs": [
    {
     "name": "stdout",
     "output_type": "stream",
     "text": [
      "Variance of nums_used_above: 1432.24\n",
      "Standard deviation of nums_used_above: 37.85\n",
      "Variance == Standard Deviation ^ 2: True\n"
     ]
    }
   ],
   "source": [
    "nums_used_above = numpy.array([32,111,138,28,59,77,97])\n",
    "\n",
    "variance = round(numpy.var(nums_used_above), 2)\n",
    "print(f'Variance of nums_used_above: {variance}')\n",
    "std = round(numpy.std(nums_used_above), 2)\n",
    "print(f'Standard deviation of nums_used_above: {std}')\n",
    "\n",
    "print(f'Variance == Standard Deviation ^ 2: {numpy.var(nums_used_above) == numpy.std(nums_used_above) ** 2}')"
   ]
  },
  {
   "cell_type": "markdown",
   "metadata": {
    "id": "yoDpzfNBHNtk"
   },
   "source": [
    "# Percentiles\n",
    "Just look at the example."
   ]
  },
  {
   "cell_type": "code",
   "execution_count": 10,
   "metadata": {
    "colab": {
     "base_uri": "https://localhost:8080/"
    },
    "id": "81dIScrwHaFK",
    "outputId": "7ab7ea1a-398f-4b0d-9912-5b7d5e367eff"
   },
   "outputs": [
    {
     "name": "stdout",
     "output_type": "stream",
     "text": [
      "nums: [1, 2, 3, 4, 5, 6, 7, 8, 9, 10]\n",
      "The 50th percentile: 5.5. So 5.5 is bigger than 50% of the nums (b/c 50% is between 5 & 6)\n",
      "The 90th percentile: 9.1\n",
      "The 100th percentile: 10.0\n"
     ]
    }
   ],
   "source": [
    "nums = [2, 5, 6, 7, 8, 11, 15, 25, 27, 31, 31, 32, 36, 39, 41, 43, 48, 50, 61, 80, 82]\n",
    "nums = list(range(1,11))\n",
    "\n",
    "print(f'nums: {nums}')\n",
    "print(f'The 50th percentile: {numpy.percentile(nums, 50)}. So {numpy.percentile(nums, 50)} is bigger than 50% of the nums (b/c 50% is between 5 & 6)')\n",
    "print(f'The 90th percentile: {numpy.percentile(nums, 90)}')\n",
    "print(f'The 100th percentile: {numpy.percentile(nums, 100)}')"
   ]
  },
  {
   "cell_type": "code",
   "execution_count": 11,
   "metadata": {
    "colab": {
     "base_uri": "https://localhost:8080/"
    },
    "id": "hLDWUZqdOQ5K",
    "outputId": "daff0230-456a-490e-d810-6e5f59a340ea"
   },
   "outputs": [
    {
     "name": "stdout",
     "output_type": "stream",
     "text": [
      "[1.63645733 1.91237294 3.40530651 2.87619443 2.44479499 4.61507189\n",
      " 0.39513569 1.31069869 1.66213227 2.41199273 2.53864611 4.53833801\n",
      " 2.00132919 4.13961742 3.20658971 2.43179971 4.97451059 2.98657365\n",
      " 4.7059743  4.13258933 1.92326478 3.73097747 2.34096863 0.07039585\n",
      " 2.98689723 4.60842011 2.78476361 3.2883454  3.82705102 4.83376261\n",
      " 3.5645622  4.37155302 3.7381074  3.93125407 1.93363276 1.22405773\n",
      " 1.22679484 1.86855472 2.6087749  0.48189031 3.16706001 1.2585997\n",
      " 4.02732758 3.89445003 4.01740892 2.73537947 0.26269774 4.34091467\n",
      " 2.45376716 1.61781825 3.51648597 3.15777304 4.45800803 4.13996259\n",
      " 0.93231794 2.09799492 2.35706467 1.37438106 0.49383742 1.37601308\n",
      " 0.32796897 2.29051846 1.62988746 4.55716235 1.69792854 0.2294084\n",
      " 2.1292923  3.67371335 4.56166566 0.70044833 4.83194258 3.7779217\n",
      " 0.39799608 3.29349493 4.28513346 1.04148535 1.7015655  4.2247943\n",
      " 4.33906946 4.79488721 1.45135677 3.92430255 0.6595924  0.79906098\n",
      " 2.20079246 3.46014985 1.70503015 2.80693086 4.80589439 2.19122643\n",
      " 0.46080739 2.82698475 3.76400622 2.70988127 3.15927878 2.4762912\n",
      " 0.51966409 3.5330713  1.97247421 2.35962134 0.09678605 1.43759469\n",
      " 4.038208   1.53526238 1.99320078 2.09654107 0.02085391 1.76690065\n",
      " 3.28069069 4.73440282 4.78761751 2.13243809 0.05977293 2.23932021\n",
      " 3.1442956  1.91690215 2.01700799 1.30177379 4.88049285 4.04624572\n",
      " 1.07912942 1.46839105 4.12410563 3.00489569 3.5722513  1.10646797\n",
      " 2.40860447 4.7730821  4.59073309 0.38333809 2.4942366  1.2319535\n",
      " 4.67607787 0.42681687 2.84918888 3.80195705 0.16099193 0.38180067\n",
      " 2.27683225 4.71899605 1.25070804 1.76880239 3.02853922 1.42211515\n",
      " 4.42374739 4.3734274  2.02954721 1.07391089 3.29519881 4.05707105\n",
      " 4.72418154 4.285333   2.5309027  3.53799209 3.06937797 0.31791605\n",
      " 2.14931243 4.31228339 2.55041313 1.53989663 4.83747896 3.54324987\n",
      " 3.07967742 4.39833836 2.85514592 1.30205201 4.756196   1.56353483\n",
      " 2.25326466 1.5220885  1.5000027  2.14131902 2.43028965 0.44118411\n",
      " 2.1773553  1.18064055 3.22214417 4.29637313 1.52356756 2.06421358\n",
      " 1.45676549 2.7569766  3.30578624 4.21207122 0.56916929 4.8534832\n",
      " 1.87220247 4.96970963 1.10202982 4.93940748 1.48672969 3.939837\n",
      " 1.05301845 4.45974267 0.89875579 4.96711857 3.58241047 0.87486888\n",
      " 3.36474221 4.92829098 3.42215436 0.84693897 3.48549133 0.84241455\n",
      " 3.16792441 2.71912416 0.32927912 3.34110562 0.94788132 4.56130553\n",
      " 2.86689967 2.6413606  2.89341333 0.44122923 3.7114412  1.99601173\n",
      " 3.256602   3.56727295 1.72880487 4.23749652 1.62058075 3.64713891\n",
      " 0.10500015 0.39741459 3.70180704 3.30109729 3.51025478 1.67220957\n",
      " 1.25330338 0.16450253 1.90735497 3.29908318 2.37648809 2.33360538\n",
      " 4.27119327 3.50484879 2.45029272 1.63149251 4.23979501 0.90191096\n",
      " 3.50471153 4.93514823 2.29327184 3.73407958 4.18663395 4.16769895\n",
      " 1.28596981 3.27242114 3.25751601 4.52268409]\n"
     ]
    }
   ],
   "source": [
    "x = numpy.random.uniform(0.0, 5.0, 250)\n",
    "\n",
    "print(x)"
   ]
  },
  {
   "cell_type": "code",
   "execution_count": null,
   "metadata": {},
   "outputs": [],
   "source": []
  }
 ],
 "metadata": {
  "colab": {
   "provenance": []
  },
  "kernelspec": {
   "display_name": "Python 3 (ipykernel)",
   "language": "python",
   "name": "python3"
  },
  "language_info": {
   "codemirror_mode": {
    "name": "ipython",
    "version": 3
   },
   "file_extension": ".py",
   "mimetype": "text/x-python",
   "name": "python",
   "nbconvert_exporter": "python",
   "pygments_lexer": "ipython3",
   "version": "3.12.4"
  },
  "vscode": {
   "interpreter": {
    "hash": "55bb148bacd6b070ba95afce38144ba0de057c9668a1eb38e7d4f82b09e60d6c"
   }
  }
 },
 "nbformat": 4,
 "nbformat_minor": 4
}
