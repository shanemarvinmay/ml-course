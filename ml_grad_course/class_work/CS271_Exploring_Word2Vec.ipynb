{
  "nbformat": 4,
  "nbformat_minor": 0,
  "metadata": {
    "kernelspec": {
      "display_name": "Python 3",
      "language": "python",
      "name": "python3"
    },
    "language_info": {
      "codemirror_mode": {
        "name": "ipython",
        "version": 3
      },
      "file_extension": ".py",
      "mimetype": "text/x-python",
      "name": "python",
      "nbconvert_exporter": "python",
      "pygments_lexer": "ipython3",
      "version": "3.6.1"
    },
    "colab": {
      "provenance": []
    }
  },
  "cells": [
    {
      "cell_type": "markdown",
      "metadata": {
        "id": "zPlRsGEiERFg"
      },
      "source": [
        "\n",
        "CS271 Topics in Sequence-based Machine Learning\n",
        "\n",
        "Spring 2023\n",
        "\n",
        "Worksheet #3 (B)\n",
        "\n",
        "### Exploring Word2Vec\n"
      ]
    },
    {
      "cell_type": "markdown",
      "metadata": {
        "id": "rVn5DqKRERFl"
      },
      "source": [
        "## Definition\n",
        "\n",
        "#For demo purposes we will represent five sentences about kings and queens and compare the wordvec cosine similarities\n",
        "\n",
        "#Later we will follow the same approach to represent 3 sequences from a taxonomy as a breakdown of their tetramers (kmers with k=4).\n"
      ]
    },
    {
      "cell_type": "code",
      "metadata": {
        "colab": {
          "base_uri": "https://localhost:8080/"
        },
        "id": "Ty6p17C2LvHg",
        "outputId": "f62bfd05-7cdc-403d-eb83-6d22ad5824e5"
      },
      "source": [
        "#https://machinelearningmastery.com/develop-word-embeddings-python-gensim/\n",
        "from gensim.models import Word2Vec\n",
        "# define training data\n",
        "#For demo purposes we will represent five sentences\n",
        "#Later we will follow the same approach to represent five sequences from a taxonomy as a breakdown of their tetramers (kmers with k=4).\n",
        "sentences = [['the', 'king', 'is', 'a', 'man', 'queen', 'is', 'woman'],\n",
        "\t\t\t['the', 'king', 'married', 'the', 'queen'],\n",
        "\t\t\t['man', 'and', 'woman'],\n",
        "\t\t\t['the', 'king', 'is', 'a', 'man'],\n",
        "\t\t\t['and', 'the', 'queen', 'is', 'a', 'woman']]\n",
        "# train model\n",
        "model = Word2Vec(sentences, min_count=1)\n",
        "# summarize the loaded model\n",
        "print(model)\n",
        "# summarize vocabulary\n",
        "words = list(model.wv.vocab)\n",
        "print(words)\n",
        "# access vector for one word\n",
        "print(model['king'])\n",
        "# save model\n",
        "model.save('model.bin')\n",
        "# load model\n",
        "new_model = Word2Vec.load('model.bin')\n",
        "print(new_model)\n",
        "print(model['woman'])"
      ],
      "execution_count": 1,
      "outputs": [
        {
          "output_type": "stream",
          "name": "stderr",
          "text": [
            "WARNING:gensim.models.base_any2vec:under 10 jobs per worker: consider setting a smaller `batch_words' for smoother alpha decay\n"
          ]
        },
        {
          "output_type": "stream",
          "name": "stdout",
          "text": [
            "Word2Vec(vocab=9, size=100, alpha=0.025)\n",
            "['the', 'king', 'is', 'a', 'man', 'queen', 'woman', 'married', 'and']\n",
            "[-4.2443787e-04 -1.9677004e-03 -4.1999561e-03 -2.4671161e-03\n",
            " -2.3002934e-03  3.8351300e-03  1.2300048e-03  2.9300966e-03\n",
            " -4.5164633e-03  3.9787996e-03 -3.3126569e-03  4.3765856e-03\n",
            " -4.2628753e-03  3.4852107e-03  1.2937434e-03 -2.3230580e-03\n",
            "  1.9319725e-03  3.4529329e-04 -9.0841152e-04  3.0253073e-03\n",
            "  4.9335076e-03 -2.2658219e-03 -1.6640343e-03 -1.5387163e-03\n",
            " -3.6426543e-03 -1.6854035e-03  2.0821602e-03 -1.2922274e-03\n",
            "  2.8962221e-03 -3.0139578e-03 -2.7609889e-03  4.4365530e-03\n",
            " -4.0666051e-03 -2.4145984e-03  4.9439822e-03 -3.1991915e-03\n",
            "  1.2747084e-03  9.8725851e-04  4.8830565e-03 -3.9065378e-03\n",
            " -3.0160844e-03 -4.3632565e-03  9.9878502e-04 -4.8462413e-03\n",
            " -8.4735180e-04  4.9475511e-03 -3.7710113e-04  4.5718271e-03\n",
            " -3.4814449e-03  3.4454823e-03  4.1616848e-04  4.1142970e-04\n",
            " -4.3974540e-04 -5.6864810e-04  1.3791558e-03 -3.8966499e-03\n",
            " -3.7635888e-03  3.2108189e-03  6.3725846e-04  4.7735902e-03\n",
            "  4.0536975e-03  4.4273208e-03 -4.0116417e-03  3.0522486e-03\n",
            "  2.5420829e-03 -3.3314838e-03 -4.9340643e-04  2.2268444e-03\n",
            " -3.9935280e-03  4.0048920e-03 -6.3903327e-04 -2.8966879e-03\n",
            " -2.0591584e-03  2.6176876e-04 -2.2729763e-03 -1.6752083e-03\n",
            "  4.6780133e-03 -1.6876418e-03  1.6071104e-03 -2.2990808e-03\n",
            " -1.1567508e-03 -3.5701811e-05 -9.3652116e-04  3.3841028e-03\n",
            "  1.5887148e-04  2.9812299e-03 -1.9495435e-03 -4.9825138e-03\n",
            " -4.3016011e-03  6.2757044e-04  4.0438944e-03  2.0224021e-03\n",
            "  3.4212291e-03  3.5856324e-03  3.0513090e-04  1.9553765e-03\n",
            "  3.5790028e-03  1.1967174e-04 -4.9554035e-03 -1.2951561e-03]\n",
            "Word2Vec(vocab=9, size=100, alpha=0.025)\n",
            "[ 3.8092791e-03  2.4684351e-03  3.0581329e-03 -8.3328283e-04\n",
            "  3.0787913e-03  4.7758250e-03 -2.1215400e-03  9.8949089e-04\n",
            "  1.8431424e-03  1.8798693e-03 -4.5203432e-03 -4.1202460e-03\n",
            "  1.0276058e-03 -4.0806183e-03  4.4903476e-03  3.6146666e-03\n",
            " -4.4280631e-03  5.4055890e-06 -3.8710739e-03 -3.0900701e-03\n",
            " -4.0482599e-03  2.8911626e-03  3.8114476e-03 -3.7695754e-03\n",
            " -1.4056314e-03 -2.2259089e-03 -9.8996190e-04 -8.6056214e-04\n",
            " -2.0867467e-04 -1.5335535e-03 -1.4080852e-03  1.9831588e-03\n",
            " -2.4095071e-03  7.5902045e-04  4.0047583e-03 -3.2620695e-03\n",
            "  4.4008582e-03 -2.0774526e-03  2.4214971e-03  4.9320809e-03\n",
            " -1.1719048e-03 -1.2070731e-03 -1.8516092e-03 -1.3500658e-03\n",
            " -2.0827472e-03  4.5902021e-03  7.0752110e-04 -2.8869689e-03\n",
            "  3.0842782e-03  1.6669458e-03 -2.6446101e-03  1.4776799e-03\n",
            " -4.1629323e-03  4.6567693e-03 -1.2104242e-03 -1.3627420e-04\n",
            "  1.2458459e-03 -4.9087768e-03 -1.1880525e-03 -1.7673237e-04\n",
            "  1.1477181e-03 -4.1816048e-03  2.2655714e-03  4.6209097e-03\n",
            " -9.6828910e-04  3.2402279e-03 -3.6308414e-03 -2.2457712e-03\n",
            " -1.1111235e-03 -2.6990902e-03 -4.0463237e-03  1.2469725e-03\n",
            " -2.5317043e-03 -1.8265154e-03  3.1746919e-03  1.0175060e-03\n",
            "  1.7093631e-03  6.1233462e-05 -3.0035872e-03  4.1185087e-03\n",
            "  1.7965472e-03  3.5086914e-03  1.3449185e-03 -3.4718658e-03\n",
            " -3.9728484e-03 -4.0252232e-03 -3.6208035e-04 -2.6100171e-03\n",
            " -2.9212935e-03  4.2306217e-03 -7.2484539e-04 -1.1546673e-03\n",
            " -2.1512439e-03  1.4949800e-03 -6.3356757e-04 -3.8675226e-03\n",
            " -2.9374463e-03  1.0497872e-03  4.9346583e-03 -4.7837920e-03]\n"
          ]
        },
        {
          "output_type": "stream",
          "name": "stderr",
          "text": [
            "<ipython-input-1-14fa75bede9f>:19: DeprecationWarning: Call to deprecated `__getitem__` (Method will be removed in 4.0.0, use self.wv.__getitem__() instead).\n",
            "  print(model['king'])\n",
            "<ipython-input-1-14fa75bede9f>:25: DeprecationWarning: Call to deprecated `__getitem__` (Method will be removed in 4.0.0, use self.wv.__getitem__() instead).\n",
            "  print(model['woman'])\n"
          ]
        }
      ]
    },
    {
      "cell_type": "markdown",
      "metadata": {
        "id": "0BxJtfWFERFl"
      },
      "source": [
        "Word2vec is a group of related models that are used to produce word embeddings. These models are shallow, two-layer neural networks that are trained to reconstruct **linguistic contexts** of words. Here lingustic contexts are represented as vector spaces. Word2vec takes as its input a large corpus of text and produces a vector space, typically of several hundred dimensions, with each unique word in the corpus being assigned a corresponding vector in the space. Word vectors are positioned in the vector space such that words that share common contexts in the corpus are located in close proximity to one another in the space. --[Wikipedia](https://en.wikipedia.org/wiki/Word2vec)"
      ]
    },
    {
      "cell_type": "markdown",
      "metadata": {
        "id": "mHIJR1k9ERFl"
      },
      "source": [
        "## Using the simplified Word2Vec Model"
      ]
    },
    {
      "cell_type": "code",
      "metadata": {
        "collapsed": true,
        "id": "CK4dviOBERFl"
      },
      "source": [
        "# set up our environment\n",
        "%matplotlib inline\n",
        "import numpy as np\n",
        "import matplotlib.pyplot as plt\n",
        "import pandas as pd\n",
        "from sklearn.metrics.pairwise import cosine_similarity\n",
        "from sklearn.decomposition import PCA"
      ],
      "execution_count": 2,
      "outputs": []
    },
    {
      "cell_type": "markdown",
      "metadata": {
        "id": "_uBAQY5iERFn"
      },
      "source": [
        "As we said above, in these embedding models each word is represented as a vector. Let's just peek at what kind of words are in our model,"
      ]
    },
    {
      "cell_type": "code",
      "source": [],
      "metadata": {
        "id": "WLVILBLpyrMn"
      },
      "execution_count": 2,
      "outputs": []
    },
    {
      "cell_type": "markdown",
      "metadata": {
        "id": "i9_XuYUFERFn"
      },
      "source": [
        "Now, let's do the [classic example](https://www.technologyreview.com/s/541356/king-man-woman-queen-the-marvelous-mathematics-of-computational-linguistics) of 'king - man + woman = queen',"
      ]
    },
    {
      "cell_type": "code",
      "metadata": {
        "colab": {
          "base_uri": "https://localhost:8080/"
        },
        "id": "C59pr4kMERFn",
        "outputId": "de1020d0-9638-4de2-9523-1a73f44b2706"
      },
      "source": [
        "# look up the vectors in our model\n",
        "#queen = model.loc['queen']\n",
        "#king = model.loc['king']\n",
        "#man = model.loc['man']\n",
        "#woman = model.loc['woman']\n",
        "queen = model['queen']\n",
        "king = model['king']\n",
        "man = model['man']\n",
        "woman = model['woman']\n",
        "\n",
        "# compute the vector for 'female king'\n",
        "female_king = king - man + woman\n",
        "\n",
        "# now check if 'female king' is more similar to queen than king is\n",
        "sim = cosine_similarity([female_king,king],[queen])\n",
        "\n",
        "print(\"Similarity between 'female king' and 'queen' = {}\".format(sim[0,0]))\n",
        "print(\"Similarity between 'king' and 'queen' = {}\".format(sim[1,0]))"
      ],
      "execution_count": 3,
      "outputs": [
        {
          "output_type": "stream",
          "name": "stdout",
          "text": [
            "Similarity between 'female king' and 'queen' = 0.02966088056564331\n",
            "Similarity between 'king' and 'queen' = 0.12178410589694977\n"
          ]
        },
        {
          "output_type": "stream",
          "name": "stderr",
          "text": [
            "<ipython-input-3-49257a804423>:6: DeprecationWarning: Call to deprecated `__getitem__` (Method will be removed in 4.0.0, use self.wv.__getitem__() instead).\n",
            "  queen = model['queen']\n",
            "<ipython-input-3-49257a804423>:7: DeprecationWarning: Call to deprecated `__getitem__` (Method will be removed in 4.0.0, use self.wv.__getitem__() instead).\n",
            "  king = model['king']\n",
            "<ipython-input-3-49257a804423>:8: DeprecationWarning: Call to deprecated `__getitem__` (Method will be removed in 4.0.0, use self.wv.__getitem__() instead).\n",
            "  man = model['man']\n",
            "<ipython-input-3-49257a804423>:9: DeprecationWarning: Call to deprecated `__getitem__` (Method will be removed in 4.0.0, use self.wv.__getitem__() instead).\n",
            "  woman = model['woman']\n"
          ]
        }
      ]
    },
    {
      "cell_type": "markdown",
      "metadata": {
        "id": "pM6PHV4-ERFo"
      },
      "source": [
        "Indeed, 'female king' is more similar to 'queen' than 'king' is.  This clearly shows that these embedding vectors capture some notion of semantics/meaning of the words."
      ]
    },
    {
      "cell_type": "markdown",
      "metadata": {
        "id": "hnbaMlgRERFo"
      },
      "source": [
        "## Visualizing Word Embedding Vectors"
      ]
    },
    {
      "cell_type": "markdown",
      "metadata": {
        "id": "Ya0W1e1_ERFp"
      },
      "source": [
        "In order to visualize the vectors we will take the (potentially very large) dimensional space of the orginal model and project it onto a 2D space using Principle Component Analysis (PCA).  Now each word in our reduced model is represented by a vector in 2D space and therefore we can easily plot those vectors.  One caveat is that we will probably have lost many semantic nuances going from a 300D model to a 2D model but the major semantic concepts are still preserved."
      ]
    },
    {
      "cell_type": "code",
      "metadata": {
        "colab": {
          "base_uri": "https://localhost:8080/"
        },
        "id": "C32W39kp3OCq",
        "outputId": "b6d1e37d-37bf-4038-836d-aa0c357516d0"
      },
      "source": [
        "type(model)"
      ],
      "execution_count": 4,
      "outputs": [
        {
          "output_type": "execute_result",
          "data": {
            "text/plain": [
              "gensim.models.word2vec.Word2Vec"
            ]
          },
          "metadata": {},
          "execution_count": 4
        }
      ]
    },
    {
      "cell_type": "code",
      "metadata": {
        "colab": {
          "base_uri": "https://localhost:8080/",
          "height": 409
        },
        "id": "KXvmKlfH5bOs",
        "outputId": "61aa0ed9-6d9d-43c5-bbb7-21dcd3404ce4"
      },
      "source": [
        "#https://web.stanford.edu/class/cs224n/materials/Gensim%20word%20vector%20visualization.html\n",
        "# https://stackoverflow.com/questions/37190989/how-to-get-vocabulary-word-count-from-gensim-word2vec\n",
        "# https://pandas.pydata.org/pandas-docs/stable/reference/api/pandas.DataFrame.html\n",
        "\n",
        "def display_pca_scatterplot(model, words=None, sample=0):\n",
        "    if words == None:\n",
        "        if sample > 0:\n",
        "            words = np.random.choice(list(model.wv.vocab), sample)\n",
        "        else:\n",
        "            words = [ word for word in list(model.wv.vocab) ]\n",
        "        \n",
        "    word_vectors = np.array([model[w] for w in words])\n",
        "\n",
        "    twodim = PCA().fit_transform(word_vectors)[:,:2]\n",
        "    \n",
        "    plt.figure(figsize=(6,6))\n",
        "    plt.scatter(twodim[:,0], twodim[:,1], edgecolors='k', c='r')\n",
        "    for word, (x,y) in zip(words, twodim):\n",
        "        plt.text(x, y, word)\n",
        "\n",
        "\n",
        "\n",
        "display_pca_scatterplot(model, None, 0)"
      ],
      "execution_count": 5,
      "outputs": [
        {
          "output_type": "stream",
          "name": "stderr",
          "text": [
            "<ipython-input-5-9da42cc2b4a9>:12: DeprecationWarning: Call to deprecated `__getitem__` (Method will be removed in 4.0.0, use self.wv.__getitem__() instead).\n",
            "  word_vectors = np.array([model[w] for w in words])\n"
          ]
        },
        {
          "output_type": "display_data",
          "data": {
            "text/plain": [
              "<Figure size 432x432 with 1 Axes>"
            ],
            "image/png": "[encoded data removed]"
          },
          "metadata": {
            "needs_background": "light"
          }
        }
      ]
    },
    {
      "cell_type": "code",
      "metadata": {
        "colab": {
          "base_uri": "https://localhost:8080/"
        },
        "id": "fDVsN4zIERFp",
        "outputId": "3bc217ff-fd92-4d53-87d9-717020185dff"
      },
      "source": [
        "# reduce our embedding model to 2D\n",
        "#pca = PCA(n_components=2)\n",
        "words = [ word for word in list(model.wv.vocab) ]\n",
        "word_vectors = np.array([model[w] for w in words])\n",
        "\n",
        "model2D = pd.DataFrame(PCA().fit_transform(word_vectors)[:,:2], index=words)\n",
        "r,c = model2D.shape\n",
        "print(\"Our reduced model has {} words and {} dimensions\".format(r,c))"
      ],
      "execution_count": 6,
      "outputs": [
        {
          "output_type": "stream",
          "name": "stdout",
          "text": [
            "Our reduced model has 9 words and 2 dimensions\n"
          ]
        },
        {
          "output_type": "stream",
          "name": "stderr",
          "text": [
            "<ipython-input-6-fa0a21f074e5>:4: DeprecationWarning: Call to deprecated `__getitem__` (Method will be removed in 4.0.0, use self.wv.__getitem__() instead).\n",
            "  word_vectors = np.array([model[w] for w in words])\n"
          ]
        }
      ]
    },
    {
      "cell_type": "markdown",
      "metadata": {
        "id": "eyk52TvzERFp"
      },
      "source": [
        "Putting our reduced model to work. The picture below shows the words *king* (blue arrow), *queen* (red arrow), *man* (green arrow), and *woman* (black arrow) being embedded in our 2-dimensional vector space representing linguistic contexts."
      ]
    },
    {
      "cell_type": "code",
      "metadata": {
        "colab": {
          "base_uri": "https://localhost:8080/",
          "height": 317
        },
        "id": "FnlkYxLQERFp",
        "outputId": "37548c8b-e49c-4f57-bbb8-0f1b7c042e4f"
      },
      "source": [
        "# look up the vectors in our model\n",
        "queen = model2D.loc['queen']\n",
        "king = model2D.loc['king']\n",
        "man = model2D.loc['man']\n",
        "woman = model2D.loc['woman']\n",
        "married = model2D.loc['married']\n",
        "\n",
        "# plot the vectors\n",
        "plt.quiver(0, 0, queen[0], queen[1], color='red',angles='xy', scale_units='xy', scale=0.25)\n",
        "plt.quiver(0, 0, king[0], king[1], color='blue',angles='xy', scale_units='xy', scale=0.25)\n",
        "plt.quiver(0, 0, man[0], man[1], color='green',angles='xy', scale_units='xy', scale=0.25)\n",
        "plt.quiver(0, 0, woman[0], woman[1], color='black',angles='xy', scale_units='xy', scale=0.25)\n",
        "plt.quiver(0, 0, married[0], married[1], color='yellow',angles='xy', scale_units='xy', scale=0.25)\n",
        "plt.show()\n",
        "\n",
        "queen \n",
        "\n",
        "king\n",
        "\n"
      ],
      "execution_count": 7,
      "outputs": [
        {
          "output_type": "display_data",
          "data": {
            "text/plain": [
              "<Figure size 432x288 with 1 Axes>"
            ],
            "image/png": "[encoded data removed]"
          },
          "metadata": {
            "needs_background": "light"
          }
        },
        {
          "output_type": "execute_result",
          "data": {
            "text/plain": [
              "0    0.018003\n",
              "1   -0.005257\n",
              "Name: king, dtype: float32"
            ]
          },
          "metadata": {},
          "execution_count": 7
        }
      ]
    },
    {
      "cell_type": "markdown",
      "metadata": {
        "id": "kVOPnkMSERFp"
      },
      "source": [
        "Notice that words that typically appear in similar contexts such as king, queen, man, and woman appear close to each other in that space.  Whereas less related concepts such as 'married' are further away. That is precisely the property that word embeddings exploit.  "
      ]
    },
    {
      "cell_type": "markdown",
      "metadata": {
        "id": "VkpnBPM3ERFq"
      },
      "source": [
        "Now let's redo the classic example 'female_king = king - man + woman' and look at the vectors,"
      ]
    },
    {
      "cell_type": "code",
      "metadata": {
        "colab": {
          "base_uri": "https://localhost:8080/",
          "height": 265
        },
        "id": "QsDrg94NERFq",
        "outputId": "56f53a5b-26dd-4d12-af59-e23000209490"
      },
      "source": [
        "female_king = king - man + woman\n",
        "\n",
        "plt.quiver(0, 0, queen[0], queen[1], color='red',angles='xy', scale_units='xy', scale=0.5)\n",
        "plt.quiver(0, 0, king[0], king[1], color='blue',angles='xy', scale_units='xy', scale=0.5)\n",
        "plt.quiver(0, 0, female_king[0], female_king[1], color='black',angles='xy', scale_units='xy', scale=0.5)\n",
        "plt.show()"
      ],
      "execution_count": 8,
      "outputs": [
        {
          "output_type": "display_data",
          "data": {
            "text/plain": [
              "<Figure size 432x288 with 1 Axes>"
            ],
            "image/png": "[encoded data removed]"
          },
          "metadata": {
            "needs_background": "light"
          }
        }
      ]
    },
    {
      "cell_type": "markdown",
      "metadata": {
        "id": "P6HmrmB2ERFq"
      },
      "source": [
        "We can see that the black 'female_king' arrow is closer to the red 'queen' arrow than the blue 'king' arrow is to 'queen', as we expected.  But what this visualization also shows is that if we compare 'female_king' to both 'king' and 'queen' we find that it is still more similar to 'king' than to 'queen'.  Something perhaps a bit surprising.  That is not an artifact of the projection of the original 300D space onto our 2D space can be verified by looking at the similarity scores in the original space,"
      ]
    },
    {
      "cell_type": "code",
      "metadata": {
        "colab": {
          "base_uri": "https://localhost:8080/"
        },
        "id": "WJQf2_zoERFq",
        "outputId": "c3ac8375-a1b5-4830-fcc5-5ab51139dc0d"
      },
      "source": [
        "# look up the vectors in our original 300D model\n",
        "queen = model['queen']\n",
        "king = model['king']\n",
        "man = model['man']\n",
        "woman = model['woman']\n",
        "\n",
        "# compute the vector for 'female king'\n",
        "female_king = king - man + woman\n",
        "\n",
        "# now check the similarity score of 'female king' to 'king' and 'queen'\n",
        "sim = cosine_similarity([female_king],[king,queen])\n",
        "\n",
        "print(\"Similarity between 'female king' and 'king' = {}\".format(sim[0,0]))\n",
        "print(\"Similarity between 'female_king' and 'queen' = {}\".format(sim[0,1]))"
      ],
      "execution_count": 9,
      "outputs": [
        {
          "output_type": "stream",
          "name": "stdout",
          "text": [
            "Similarity between 'female king' and 'king' = 0.612591028213501\n",
            "Similarity between 'female_king' and 'queen' = 0.02966088056564331\n"
          ]
        },
        {
          "output_type": "stream",
          "name": "stderr",
          "text": [
            "<ipython-input-9-8349c995ee49>:2: DeprecationWarning: Call to deprecated `__getitem__` (Method will be removed in 4.0.0, use self.wv.__getitem__() instead).\n",
            "  queen = model['queen']\n",
            "<ipython-input-9-8349c995ee49>:3: DeprecationWarning: Call to deprecated `__getitem__` (Method will be removed in 4.0.0, use self.wv.__getitem__() instead).\n",
            "  king = model['king']\n",
            "<ipython-input-9-8349c995ee49>:4: DeprecationWarning: Call to deprecated `__getitem__` (Method will be removed in 4.0.0, use self.wv.__getitem__() instead).\n",
            "  man = model['man']\n",
            "<ipython-input-9-8349c995ee49>:5: DeprecationWarning: Call to deprecated `__getitem__` (Method will be removed in 4.0.0, use self.wv.__getitem__() instead).\n",
            "  woman = model['woman']\n"
          ]
        }
      ]
    },
    {
      "cell_type": "code",
      "metadata": {
        "collapsed": true,
        "id": "UiDYxQc9ERFs"
      },
      "source": [],
      "execution_count": 9,
      "outputs": []
    },
    {
      "cell_type": "markdown",
      "metadata": {
        "id": "WGP-enojNXnD"
      },
      "source": [
        "#Training examples of your own\n",
        "\n",
        "**Now use the 16S sequences below** from the ncbi taxonomy to create a new word embedding of tetramers (k-mers with k=4). \n",
        "\n",
        "Perform the same kind of study for these 3 tetramers: \n",
        "CGTA\n",
        "CTCT\n",
        "GAGT\n",
        "\n",
        "Question: which of these are closer in the dataset and which are farther?\n",
        "Submit the cosine similarity plot you derived.\n",
        "\n",
        "### Answer\n",
        "* This answers goes along with the code at the bottom of this codelab. \n",
        "* Overall is seems that cgta and gagt seem to be closest due to the following:\n",
        "\t* Graph has cgta (in green) and gagt (in black) as closer.\n",
        "  * At k = 4 (kmer) the cosesine similarities of cgta and gagt is 0.49028071761131287.\n",
        "* The furthest away (greatest difference) seems to be between cgta and ctct due to the following.\n",
        "\t* Graph has cgta (in green) and ctct (in blue) as furthest.\n",
        "\t* At k = 4 (kmer) the cosesine similarities of cgta and ctct is 0.3433593511581421."
      ]
    },
    {
      "cell_type": "code",
      "metadata": {
        "colab": {
          "base_uri": "https://localhost:8080/"
        },
        "id": "89Snlqk3RO7v",
        "outputId": "89e7d682-e39b-4b3b-9da0-7b234a4b5ca8"
      },
      "source": [
        "#https://machinelearningmastery.com/develop-word-embeddings-python-gensim/\n",
        "##https://radimrehurek.com/gensim/models/word2vec.html\n",
        "\n",
        "def getKmers(sequence, sizek):\n",
        "    return [sequence[x:x+sizek].lower() for x in range(len(sequence) - sizek + 1)]\n",
        "\n",
        "from gensim.test.utils import common_texts\n",
        "from gensim.models import Word2Vec\n",
        "\n",
        "paenibacillus_16s_string = \"\"\"GACGAACGCTGGCGGCGTGCCTAATACATGCAAGTCGAGCGGACTTGATGGAGAGCTTGCTCTCCTGATG\n",
        "GTTAGCGGCGGACGGGTGAGTAACACGTAGGTAACCTGCCTGTAAGACTGGGATAACTACCGGAAACGGT\n",
        "AGCTAATACCGGATAATTCATTTTACTGCATGGTGGAGTGATGAAAGACGGAGCAATCTGTCACTTACGG\n",
        "ATGGGCCTGCGGCGCATTAGCTAGTTGGTGGGGTAACGGCCCACCAAGGCGACGATGCGTAGCCGACCTG\n",
        "AGAGGGTGAACGGCCACACTGGGACTGAGACACGGCCCAGACTCCTACGGGAGGCAGCAGTAGGGAATCT\n",
        "TCCGCAATGGACGAAAGTCTGACGGAGCAACGCCGCGTGAGTGATGAAGGTTTTCGGATCGTAAAGCTCT\n",
        "GTTGCCAGGGAAGAACGTCCGGTAGAGTAACTGCTACCGGAGTGACGGTACCTGAGAAGAAAGCCCCGGC\n",
        "TAACTACGTGCCAGCAGCCGCGGTAATACGTAGGGGGCAAGCGTTGTCCGGAATTATTGGGCGTAAAGCG\n",
        "CGCGCAGGCGGTTATTTAAGTCTGGTGTTTAATCCTGGGGCTCAACCCCGGGTCGCACCGGAAACTGGGT\n",
        "AACTTGAGTACAGAAGAGGAGAGTGGAATTCCACGTGTAGCGGTGAAATGCGTAGATATGTGGAGGAACA\n",
        "CCAGTGGCGAAGGCGACTCTCTGGGCTGTAACTGACGCTGAGGCGCGAAAGCGTGGGGAGCAAACAGGAT\n",
        "TAGATACCCTGGTAGTCCACGCCGTAAACGATGAATGCTAGGTGTTAGGGGTTTCGATACCCTTGGTGCC\n",
        "GAAGTTAACACATTAAGCATTCCGCCTGGGGAGTACGGTCGCAAGACTGAAACTCAAAGGAATTGACGGG\n",
        "GACCCGCACAAGCAGTGGAGTATGTGGTTTAATTCGAAGCAACGCGAAGAACCTTACCAAGTCTTGACAT\n",
        "CCCAATGAAAACACCAGAGATGGTGTCCCTCTTCGGAGCATTGGTGACAGGTGGTGCATGGTTGTCGTCA\n",
        "GCTCGTGTCGTGAGATGTTGGGTTAAGTCCCGCAACGAGCGCAACCCTTGATTTTAGTTGCCAGCACTTT\n",
        "GGGTGGGCACTCTAGAATGACTGCCGGTGACAAACCGGAGGAAGGCGGGGATGACGTCAAATCATCATGC\n",
        "CCCTTATGACTTGGGCTACACACGTACTACAATGGCCGGTACAACGGGAAGCGAAGCCGCGAGGTGGAGC\n",
        "GAATCCTAGAAAAGCCGGTCTCAGTTCGGATTGCAGGCTGCAACTCGCCTGCATGAAGTCGGAATTGCTA\n",
        "GTAATCGCGGATCAGCATGCCGCGGTGAATACGTTCCCGGGTCTTGTACACACCGCCCGTCACACCACGA\n",
        "GAGTTTACAACACCCGAAGTCGGTGAGGTAACCGCAAGGAGCCAGCCGCCGAAGGTGGGGTAGATGATTG\n",
        "GGGTG\"\"\".replace(\"\\n\", \"\")\n",
        "paenibacillus_16s_sequence = getKmers(paenibacillus_16s_string, sizek=4)\n",
        "\n",
        "#from https://www.ncbi.nlm.nih.gov/nuccore\n",
        "bacillus_16s_string = \"\"\"AGAGTTTGATCCTGGCTCAGGACGAACGCTGGCGGCGTGCCTAATACATGCAAGTCGAGCGGATGAAGAG\n",
        "GAGCTTGCTCCTTGGATTCAGCGGCGGACGGGTGAGTAACACGTGGGCAACCTGCCTGTAAGACTGGGAT\n",
        "AACTCCGGGAAACCGGGGCTAATACCGGATAACTTCTTTTCTCGCATGGGAAGAGGTTGAAAGACGGTTT\n",
        "TGCTGTCACTTACAGATGGGCCCGCGGCGCATTAGCTAGTTGGTGGGGTAACGGCCTACCAAGGCGACGA\n",
        "TGCGTAGCCGACCTGAGAGGGTGATCGGCCACACTGGGACTGAGACACGGCCCAGACTCCTACGGGAGGC\n",
        "AGCAGTAGGGAATCTTCCGCAATGGACGAAAGTCTGACGGAGCAACGCCGCGTGAGTGACGAAGGCCTTC\n",
        "GGGTCGTAAAACTCTGTTATCAGGGAAGAACAAGCATCATTTAACTGATGGTGCCTTGACGGTACCTGAC\n",
        "CAGAAAGCCACGGCTAACTACGTGCCAGCAGCCGCGGTAATACGTAGGTGGCAAGCGTTGTCCGGAATTA\n",
        "TTGGGCGTAAAGCGCGCGCAGGCGGCTTCTTAAGTCTGATGTGAAAGCCCACGGCTCAACCGTGGAGGGT\n",
        "CATTGGAAACTGGGAGGCTTGAGTGCAGAAGAGAAGAGCGGAATTCCACGTGTAGCGGTGAAATGCGTAG\n",
        "AGATGTGGAGGAACACCAGTGGCGAAGGCGGCTCTTTGGTCTGTAACTGACGCTGAGGCGCGAAAGCGTG\n",
        "GGGAGAGAACAGGATTAGATACCCTGGTATTCCACGCCGTAAACGATGAGTGCTAAGTGTTAGGGGGTTT\n",
        "CCGCCCCTTAGTGCTGCAGCAAACGCATTAAGCACTCCGCCTGGGGAGTACGGCCGCAAGGCTGAAACTC\n",
        "AAAGGAATTGACGGGGGCCCGCACAAGCGGTGGAGCATGTGGTTTAATTCGAAGCAACGCGAAGAACCTT\n",
        "ACCAGGTCTTGACATCCCGCTGACCGGTGCAGAGATGTGCCTTTCCCTTCGGGGACAGCGGTGACAGGTG\n",
        "GTGCATGGTTGTCGTCAGCTCGTGTCGTGAGATGTTGGGTTAAGTCCCGCAACGAGCGCAACCCTTGATC\n",
        "TTAGTTGCCAGCATTTAGTTGGGCACTCTAAGGTGACTGCCGGTGACAAACCGGAGGAAGGTGGGGATGA\n",
        "CGTCAAATCATCATGCCCCTTATGACCTGGGCTACACACGTGCTACAATGGATGGTACAGAGGGCAGCGA\n",
        "GACCGCGAGGTTCAGCGAATCCCTTAAAACCATTCTCAGTTCGGATTGCAGGCTGCAACTCGCCTGCATG\n",
        "AAGCCGGAATCGCTAGTAATCGCGGATCAGCATGCCGCGGTGAATACGTTCCCGGGCCTTGTACACACCG\n",
        "CCCGTCACACCACGAGAGTTTGTAACACCCGAAGTCGGTGGGGTAACCCTTCTGGGAGCCAGCCGCCGAA\n",
        "GGTGGGACAGATGATTGGGGTGAAGTCGTAACAAGGTAGCCGTA\"\"\".replace(\"\\n\", \"\")\n",
        "bacillus_16s_sequence = getKmers(bacillus_16s_string, sizek=4)\n",
        "\n",
        "paracoccus_16s_string = \"\"\"CTGGCTCAGAACGAACGCTGGCGGCAGGCCTAACACATGCAAGTCGAGCGAGATCTTCGGGTCTAGCGGC\n",
        "GGACGGGTGAGTAACGCGTGGGAATATGCCTCTTGGTACGGAATAGCCTCGGGAAACTGGGAGTAATGCC\n",
        "GTATGTGCCCTTTGGGGGAAAGATTTATCGCCAAGAGATTAGCCCGCGTTGGATTAGGTAGTTGGTGGGG\n",
        "TAATGGCCTACCAAGCCTACGATCCATAGCTGGTTTGAGAGGATGATCAGCCACACTGGGACTGAGACAC\n",
        "GGCCCAGACTCCTACGGGAGGCAGCAGTGGGGAATCTTAGACAATGGGGGAAACCCTGATCTAGCCATGC\n",
        "CGCGTGAGTGATGAAGGCCTTAGGGTTGTAAAGCTCTTTCAGCTGGGAAGATAATGACGGTACCAGCAGA\n",
        "AGAAGCCCCGGCTAACTCCGTGCCAGCAGCCGCGGTAATACGGAGGGGGCTAGCGTTGTTCGGAATTACT\n",
        "GGGCGTAAAGCGCACGTAGGCTGATCGGAAAGTTGGGGGTGAAATCCCGGGGCTCAACCCCGGAACTGCC\n",
        "TTCAAAACTATCGGTCTTGAGTTCGAGAGAGGTGAGTGGAATTCCGAGTGTAGAGGTGAAATTCGTAGAT\n",
        "ATTCGGAGGAACACCAGTGGCGAAGGCGGCTCACTGGCTCGATACTGACGCTGAGGTGCGAAAGCGTGGG\n",
        "GAGCAAACAGGATTAGATACCCTGGTAGTCCACGCCGTAAACGATGAATGCCAGACGTCGGGCAGCATGC\n",
        "TGTTCGGTGTCACACCTAACGGATTAAGCATTCCGCCTGGGGAGTACGGCCGCAAGGTTAAAACTCAAAG\n",
        "GAATTGACGGGGGCCCGCACAAGCGGTGGAGCATGTGGTTTAATTCGAAGCAACGCGCAGAACCTTACCA\n",
        "ACCCTTGACATCCCCGGACCGCTGGAGAGATCCAGTTTCCTCGTAAGAGGCCGGGAGACAGGTGCTGCAT\n",
        "GGCTGTCGTCAGCTCGTGTCGTGAGATGTTCGGTTAAGTCCGGCAACGAGCGCAACCCACGTCCTTAGTT\n",
        "GCCAGCATTCAGTTGGGCACTCTAGGGAAACTGCCGATGATAAGTCGGAGGAAGGTGTGGATGACGTCAA\n",
        "GTCCTCATGGCCCTTACGGGTTGGGCTACACACGTGCTACAATGGTGGTGACAGAGGGTTAATCCCTAAA\n",
        "AGCCATCTCAGTTCGGATTGGGGTCTGCAACTCGACCCCATGAAGTTGGAATCGCTAGTAATCGCGTAAC\n",
        "AGCATGACGCGGTGAATACGTTCCCGGGCCTTGTACACACCGCCCGTCACACCATGGGAGTTGGGTCTAC\n",
        "CCGACGGCCGTGCGCCAACCAGCAATGGGGGCAGCGGACCACGGTAGGCTCAGCGACTGGGGTGAAGTCG\n",
        "TA\"\"\".replace(\"\\n\", \"\")\n",
        "paracoccus_16s_sequence = getKmers(paracoccus_16s_string, sizek=4)\n",
        "\n",
        "###print(str(common_texts))\n",
        "###texts = [[\"ACGT\", \"TTGG\", \"CGCG\"], [\"AAAA\", \"AAAC\", \"AAAG\"], [\"TTTT\", \"TTGG\", \"TTCC\"]]\n",
        "texts = [paenibacillus_16s_sequence, bacillus_16s_sequence, paracoccus_16s_sequence]\n",
        "model = Word2Vec(sentences=texts, window=2, min_count=1, workers=4)\n",
        "\n",
        "#If you save the model you can continue training it later:\n",
        "#model.save(\"word2vec.model\")\n",
        "#model = Word2Vec.load(\"word2vec.model\")\n",
        "#model.train([[\"ACGT\", \"TTGG\", \"CGCG\"], [\"AAAA\", \"AAAC\", \"AAAG\"], [\"TTTT\", \"TTGG\", \"TTCC\"]], total_examples=30, epochs=10)\n",
        "\n",
        "\n",
        "vector = model[\"cgta\"]  # get numpy vector of a word\n",
        "\n",
        "print(vector)\n",
        "\n",
        "from gensim.models import KeyedVectors\n",
        "\n",
        "# Store just the words + their trained embeddings.\n",
        "word_vectors = model.wv\n",
        "word_vectors.save(\"word2vec.wordvectors\")\n",
        "\n",
        "# Load back with memory-mapping = read-only, shared across processes.\n",
        "wv = KeyedVectors.load(\"word2vec.wordvectors\", mmap='r')\n",
        "\n",
        "#vector = wv['CGTA']  # Get numpy vector of a word\n",
        "print(wv)\n"
      ],
      "execution_count": 32,
      "outputs": [
        {
          "output_type": "stream",
          "name": "stderr",
          "text": [
            "WARNING:gensim.models.base_any2vec:under 10 jobs per worker: consider setting a smaller `batch_words' for smoother alpha decay\n"
          ]
        },
        {
          "output_type": "stream",
          "name": "stdout",
          "text": [
            "[ 0.00918634 -0.0078407   0.00010674  0.00047906  0.00371299  0.0001442\n",
            "  0.00627904  0.00575571  0.00375887 -0.00199436  0.00324967  0.00126801\n",
            "  0.00490205 -0.00425195  0.00185265  0.00160402 -0.00135863 -0.00153603\n",
            "  0.00220093  0.00699439 -0.00286925  0.00100776 -0.00336423  0.00303104\n",
            "  0.00208871  0.00538042 -0.00313441 -0.00112236  0.00501356 -0.0064277\n",
            " -0.00511448 -0.00176362  0.00543827 -0.00263437 -0.00611351  0.00382785\n",
            "  0.00525984 -0.00340806 -0.0021509   0.00927751 -0.0034665   0.00020951\n",
            " -0.0013853   0.00109455  0.00339519  0.00368702  0.00109603  0.00202712\n",
            " -0.00024248 -0.00221513  0.00504241 -0.00480153  0.00563703  0.00575923\n",
            " -0.00147988 -0.005162    0.00361658  0.00190159 -0.00273433 -0.000416\n",
            "  0.00168226  0.00657981 -0.00236187 -0.00167321 -0.00124189 -0.00411557\n",
            " -0.01133568 -0.0032582   0.00060222 -0.00427752 -0.00334882  0.00417132\n",
            "  0.00241627  0.00023984  0.00318713 -0.00345438 -0.00022283  0.00278026\n",
            "  0.00160297 -0.00139478  0.00413163  0.00759204  0.00589758 -0.00147881\n",
            " -0.00288712  0.00145654 -0.00309011  0.00463763 -0.00040237  0.00404972\n",
            " -0.00938682 -0.00666575 -0.00492479  0.00020079  0.00039324  0.00593879\n",
            " -0.00058317 -0.00061478  0.00485015 -0.00268707]\n",
            "<gensim.models.keyedvectors.Word2VecKeyedVectors object at 0x7f0f8937b0a0>\n"
          ]
        },
        {
          "output_type": "stream",
          "name": "stderr",
          "text": [
            "<ipython-input-32-050055520974>:93: DeprecationWarning: Call to deprecated `__getitem__` (Method will be removed in 4.0.0, use self.wv.__getitem__() instead).\n",
            "  vector = model[\"cgta\"]  # get numpy vector of a word\n"
          ]
        }
      ]
    },
    {
      "cell_type": "markdown",
      "metadata": {
        "id": "Wkx3u6ebhnUv"
      },
      "source": [
        "\n",
        "---\n",
        "\n",
        "\n"
      ]
    },
    {
      "cell_type": "code",
      "source": [
        "# Cosine similarty number.\n",
        "cgta = model['cgta']\n",
        "ctct = model['ctct']\n",
        "gagt = model['gagt']\n",
        "print(\"Cosine similarity score when k = 4\")\n",
        "print(\"Similarity between 'cgta' and 'ctct' = {}\".format(cosine_similarity([cgta],[ctct])[0,0]))\n",
        "print(\"Similarity between 'cgta' and 'gagt' = {}\".format(cosine_similarity([cgta],[gagt])[0,0]))\n",
        "print(\"Similarity between 'ctct' and 'gagt' = {}\".format(cosine_similarity([ctct],[gagt])[0,0]))\n",
        "\n",
        "# PCA \n",
        "words = [ word for word in list(model.wv.vocab) ]\n",
        "word_vectors = np.array([model[w] for w in words])\n",
        "model2D = pd.DataFrame(PCA().fit_transform(word_vectors)[:,:2], index=words)\n",
        "\n",
        "# Getting vectors. Look up the vectors in our model.\n",
        "cgta = model2D.loc['cgta']\n",
        "ctct = model2D.loc['ctct']\n",
        "gagt = model2D.loc['gagt']\n",
        "\n",
        "# Cosine similarity plot.\n",
        "plt.quiver(0, 0, cgta[0], cgta[1], color='green', angles='xy', scale_units='xy', scale=0.1)\n",
        "plt.quiver(0, 0, ctct[0], ctct[1], color='blue',angles='xy', scale_units='xy', scale=0.1)\n",
        "plt.quiver(0, 0, gagt[0], gagt[1], color='black',angles='xy', scale_units='xy', scale=0.1)\n",
        "plt.xlim(-0.06, 0.04)\n",
        "plt.ylim(-0.08, 0.06)\n",
        "plt.show()"
      ],
      "metadata": {
        "id": "PyoUSJWl6w8G",
        "colab": {
          "base_uri": "https://localhost:8080/",
          "height": 477
        },
        "outputId": "9086784e-c79b-48b2-a9c7-537e6fc13dfd"
      },
      "execution_count": 37,
      "outputs": [
        {
          "output_type": "stream",
          "name": "stderr",
          "text": [
            "<ipython-input-37-ae0a9dc466c1>:2: DeprecationWarning: Call to deprecated `__getitem__` (Method will be removed in 4.0.0, use self.wv.__getitem__() instead).\n",
            "  cgta = model['cgta']\n",
            "<ipython-input-37-ae0a9dc466c1>:3: DeprecationWarning: Call to deprecated `__getitem__` (Method will be removed in 4.0.0, use self.wv.__getitem__() instead).\n",
            "  ctct = model['ctct']\n",
            "<ipython-input-37-ae0a9dc466c1>:4: DeprecationWarning: Call to deprecated `__getitem__` (Method will be removed in 4.0.0, use self.wv.__getitem__() instead).\n",
            "  gagt = model['gagt']\n",
            "<ipython-input-37-ae0a9dc466c1>:12: DeprecationWarning: Call to deprecated `__getitem__` (Method will be removed in 4.0.0, use self.wv.__getitem__() instead).\n",
            "  word_vectors = np.array([model[w] for w in words])\n"
          ]
        },
        {
          "output_type": "stream",
          "name": "stdout",
          "text": [
            "Cosine similarity score when k = 4\n",
            "Similarity between 'cgta' and 'ctct' = 0.3433593511581421\n",
            "Similarity between 'cgta' and 'gagt' = 0.49028071761131287\n",
            "Similarity between 'ctct' and 'gagt' = 0.39362633228302\n"
          ]
        },
        {
          "output_type": "display_data",
          "data": {
            "text/plain": [
              "<Figure size 432x288 with 1 Axes>"
            ],
            "image/png": "[encoded data removed]"
          },
          "metadata": {
            "needs_background": "light"
          }
        }
      ]
    }
  ]
}